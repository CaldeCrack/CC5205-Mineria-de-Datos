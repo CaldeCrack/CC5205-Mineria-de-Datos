{
  "cells": [
    {
      "cell_type": "markdown",
      "metadata": {
        "id": "p_XcuC2rXQWb",
        "pycharm": {}
      },
      "source": [
        "# Laboratorio 3.1: Clasificación\n",
        "\n",
        "Profesoras de Cátedra: Jazmine Maldonado, Cinthia Sánchez Profesores Auxiliares: Fran Zautzik, María José Zambrano\n",
        "\n",
        "Septiembre 2023\n"
      ]
    },
    {
      "cell_type": "markdown",
      "metadata": {
        "id": "gP6bki0CIMtj"
      },
      "source": [
        "## Nombres\n",
        "\n",
        "* Andrés Calderón\n",
        "* Franco González"
      ]
    },
    {
      "cell_type": "markdown",
      "metadata": {
        "id": "SMUzxXj7XQWi",
        "pycharm": {}
      },
      "source": [
        "## Instrucciones\n",
        "\n",
        "1. Trabajen en equipos de dos personas. Salvo excepciones, no se corregirá entregas con menos de dos integrantes.\n",
        "\n",
        "2. Modifique este archivo `.ipynb` agregando sus respuestas donde corresponda.\n",
        "\n",
        "3. El formato de entrega para esta actividad es un archivo **html**. Genere un archivo HTML usando jupyter (ver tutorial 2) y súbalo a U-Cursos. Basta con que **uno de los integrantes haga la entrega**. Si ambos hacen una entrega en U-Cursos, se revisará cualquiera de éstas.\n"
      ]
    },
    {
      "cell_type": "markdown",
      "metadata": {
        "id": "wjW5R_p5XQWj",
        "pycharm": {}
      },
      "source": [
        "A continuación vamos a cargar un dataset con noticias, el cual se puede encontrar en: https://www.kaggle.com/datasets/kevinmorgado/spanish-news-classification.\n",
        "\n",
        "Los atributos que posee son:\n",
        "\n",
        "- URL : El link a la noticia\n",
        "- News: El texto de la noticia\n",
        "- Type: La clasificación de la noticia\n",
        "\n",
        "\n",
        "Para el laboratoria solo nos importan las columnas News y Type.\n"
      ]
    },
    {
      "cell_type": "code",
      "execution_count": 7,
      "metadata": {
        "colab": {
          "base_uri": "https://localhost:8080/",
          "height": 206
        },
        "id": "JKE1Os_xGh-r",
        "outputId": "266c9005-eb1f-45fe-b2d7-6adcc124a20f"
      },
      "outputs": [
        {
          "data": {
            "text/html": [
              "<div>\n",
              "<style scoped>\n",
              "    .dataframe tbody tr th:only-of-type {\n",
              "        vertical-align: middle;\n",
              "    }\n",
              "\n",
              "    .dataframe tbody tr th {\n",
              "        vertical-align: top;\n",
              "    }\n",
              "\n",
              "    .dataframe thead th {\n",
              "        text-align: right;\n",
              "    }\n",
              "</style>\n",
              "<table border=\"1\" class=\"dataframe\">\n",
              "  <thead>\n",
              "    <tr style=\"text-align: right;\">\n",
              "      <th></th>\n",
              "      <th>Noticia</th>\n",
              "      <th>Clasificación</th>\n",
              "    </tr>\n",
              "  </thead>\n",
              "  <tbody>\n",
              "    <tr>\n",
              "      <th>0</th>\n",
              "      <td>Durante el foro La banca articulador empresari...</td>\n",
              "      <td>Otra</td>\n",
              "    </tr>\n",
              "    <tr>\n",
              "      <th>1</th>\n",
              "      <td>El regulador de valores de China dijo el domin...</td>\n",
              "      <td>Regulaciones</td>\n",
              "    </tr>\n",
              "    <tr>\n",
              "      <th>2</th>\n",
              "      <td>En una industria históricamente masculina como...</td>\n",
              "      <td>Alianzas</td>\n",
              "    </tr>\n",
              "    <tr>\n",
              "      <th>3</th>\n",
              "      <td>Con el dato de marzo el IPC interanual encaden...</td>\n",
              "      <td>Macroeconomia</td>\n",
              "    </tr>\n",
              "    <tr>\n",
              "      <th>4</th>\n",
              "      <td>Ayer en Cartagena se dio inicio a la versión n...</td>\n",
              "      <td>Otra</td>\n",
              "    </tr>\n",
              "  </tbody>\n",
              "</table>\n",
              "</div>"
            ],
            "text/plain": [
              "                                             Noticia  Clasificación\n",
              "0  Durante el foro La banca articulador empresari...           Otra\n",
              "1  El regulador de valores de China dijo el domin...   Regulaciones\n",
              "2  En una industria históricamente masculina como...       Alianzas\n",
              "3  Con el dato de marzo el IPC interanual encaden...  Macroeconomia\n",
              "4  Ayer en Cartagena se dio inicio a la versión n...           Otra"
            ]
          },
          "execution_count": 7,
          "metadata": {},
          "output_type": "execute_result"
        }
      ],
      "source": [
        "import pandas as pd\n",
        "df = pd.read_csv(\"https://raw.githubusercontent.com/mzambrano1/Datasets-CC5205-otono-2023/master/lab2.1/noticias.csv\")\n",
        "df = df[[\"news\", \"Type\"]]\n",
        "df = df.rename(columns={\n",
        "    'news': 'Noticia', 'Type':'Clasificación'})\n",
        "df.head()\n"
      ]
    },
    {
      "cell_type": "markdown",
      "metadata": {
        "id": "1kGPQ02MGMJn"
      },
      "source": [
        "A continuación preprocesaremos los textos y los convertiremos en vectores. Esto con el propósito de tener información numérica que pueda ser interpretable por los modelos que crearemos después.\n"
      ]
    },
    {
      "cell_type": "code",
      "execution_count": 8,
      "metadata": {
        "colab": {
          "base_uri": "https://localhost:8080/",
          "height": 280
        },
        "id": "K42xBf4zGMJo",
        "outputId": "d5d9c375-bc9b-4b41-ebc5-82996edc7f08"
      },
      "outputs": [
        {
          "data": {
            "text/html": [
              "<div>\n",
              "<style scoped>\n",
              "    .dataframe tbody tr th:only-of-type {\n",
              "        vertical-align: middle;\n",
              "    }\n",
              "\n",
              "    .dataframe tbody tr th {\n",
              "        vertical-align: top;\n",
              "    }\n",
              "\n",
              "    .dataframe thead th {\n",
              "        text-align: right;\n",
              "    }\n",
              "</style>\n",
              "<table border=\"1\" class=\"dataframe\">\n",
              "  <thead>\n",
              "    <tr style=\"text-align: right;\">\n",
              "      <th></th>\n",
              "      <th>Clasificación</th>\n",
              "      <th>aa</th>\n",
              "      <th>aaa</th>\n",
              "      <th>abacum</th>\n",
              "      <th>abajo</th>\n",
              "      <th>abandonar</th>\n",
              "      <th>abandono</th>\n",
              "      <th>abanico</th>\n",
              "      <th>abaratamiento</th>\n",
              "      <th>abaratar</th>\n",
              "      <th>...</th>\n",
              "      <th>zero</th>\n",
              "      <th>zhao</th>\n",
              "      <th>zijin</th>\n",
              "      <th>zmvm</th>\n",
              "      <th>zona</th>\n",
              "      <th>zonas</th>\n",
              "      <th>zuckerberg</th>\n",
              "      <th>zug</th>\n",
              "      <th>zuluaga</th>\n",
              "      <th>zurich</th>\n",
              "    </tr>\n",
              "  </thead>\n",
              "  <tbody>\n",
              "    <tr>\n",
              "      <th>0</th>\n",
              "      <td>Otra</td>\n",
              "      <td>0</td>\n",
              "      <td>0</td>\n",
              "      <td>0</td>\n",
              "      <td>0</td>\n",
              "      <td>0</td>\n",
              "      <td>0</td>\n",
              "      <td>0</td>\n",
              "      <td>0</td>\n",
              "      <td>0</td>\n",
              "      <td>...</td>\n",
              "      <td>0</td>\n",
              "      <td>0</td>\n",
              "      <td>0</td>\n",
              "      <td>0</td>\n",
              "      <td>0</td>\n",
              "      <td>0</td>\n",
              "      <td>0</td>\n",
              "      <td>0</td>\n",
              "      <td>0</td>\n",
              "      <td>0</td>\n",
              "    </tr>\n",
              "    <tr>\n",
              "      <th>1</th>\n",
              "      <td>Regulaciones</td>\n",
              "      <td>0</td>\n",
              "      <td>0</td>\n",
              "      <td>0</td>\n",
              "      <td>0</td>\n",
              "      <td>0</td>\n",
              "      <td>0</td>\n",
              "      <td>0</td>\n",
              "      <td>0</td>\n",
              "      <td>0</td>\n",
              "      <td>...</td>\n",
              "      <td>0</td>\n",
              "      <td>0</td>\n",
              "      <td>0</td>\n",
              "      <td>0</td>\n",
              "      <td>0</td>\n",
              "      <td>0</td>\n",
              "      <td>0</td>\n",
              "      <td>0</td>\n",
              "      <td>0</td>\n",
              "      <td>0</td>\n",
              "    </tr>\n",
              "    <tr>\n",
              "      <th>2</th>\n",
              "      <td>Alianzas</td>\n",
              "      <td>0</td>\n",
              "      <td>0</td>\n",
              "      <td>0</td>\n",
              "      <td>0</td>\n",
              "      <td>0</td>\n",
              "      <td>0</td>\n",
              "      <td>0</td>\n",
              "      <td>0</td>\n",
              "      <td>0</td>\n",
              "      <td>...</td>\n",
              "      <td>0</td>\n",
              "      <td>0</td>\n",
              "      <td>0</td>\n",
              "      <td>0</td>\n",
              "      <td>0</td>\n",
              "      <td>0</td>\n",
              "      <td>0</td>\n",
              "      <td>0</td>\n",
              "      <td>0</td>\n",
              "      <td>0</td>\n",
              "    </tr>\n",
              "    <tr>\n",
              "      <th>3</th>\n",
              "      <td>Macroeconomia</td>\n",
              "      <td>0</td>\n",
              "      <td>0</td>\n",
              "      <td>0</td>\n",
              "      <td>0</td>\n",
              "      <td>0</td>\n",
              "      <td>0</td>\n",
              "      <td>0</td>\n",
              "      <td>0</td>\n",
              "      <td>0</td>\n",
              "      <td>...</td>\n",
              "      <td>0</td>\n",
              "      <td>0</td>\n",
              "      <td>0</td>\n",
              "      <td>0</td>\n",
              "      <td>0</td>\n",
              "      <td>0</td>\n",
              "      <td>0</td>\n",
              "      <td>0</td>\n",
              "      <td>0</td>\n",
              "      <td>0</td>\n",
              "    </tr>\n",
              "    <tr>\n",
              "      <th>4</th>\n",
              "      <td>Otra</td>\n",
              "      <td>0</td>\n",
              "      <td>0</td>\n",
              "      <td>0</td>\n",
              "      <td>0</td>\n",
              "      <td>0</td>\n",
              "      <td>0</td>\n",
              "      <td>0</td>\n",
              "      <td>0</td>\n",
              "      <td>0</td>\n",
              "      <td>...</td>\n",
              "      <td>0</td>\n",
              "      <td>0</td>\n",
              "      <td>0</td>\n",
              "      <td>0</td>\n",
              "      <td>0</td>\n",
              "      <td>0</td>\n",
              "      <td>0</td>\n",
              "      <td>0</td>\n",
              "      <td>0</td>\n",
              "      <td>0</td>\n",
              "    </tr>\n",
              "  </tbody>\n",
              "</table>\n",
              "<p>5 rows × 14407 columns</p>\n",
              "</div>"
            ],
            "text/plain": [
              "   Clasificación  aa  aaa  abacum  abajo  abandonar  abandono  abanico  \\\n",
              "0           Otra   0    0       0      0          0         0        0   \n",
              "1   Regulaciones   0    0       0      0          0         0        0   \n",
              "2       Alianzas   0    0       0      0          0         0        0   \n",
              "3  Macroeconomia   0    0       0      0          0         0        0   \n",
              "4           Otra   0    0       0      0          0         0        0   \n",
              "\n",
              "   abaratamiento  abaratar  ...  zero  zhao  zijin  zmvm  zona  zonas  \\\n",
              "0              0         0  ...     0     0      0     0     0      0   \n",
              "1              0         0  ...     0     0      0     0     0      0   \n",
              "2              0         0  ...     0     0      0     0     0      0   \n",
              "3              0         0  ...     0     0      0     0     0      0   \n",
              "4              0         0  ...     0     0      0     0     0      0   \n",
              "\n",
              "   zuckerberg  zug  zuluaga  zurich  \n",
              "0           0    0        0       0  \n",
              "1           0    0        0       0  \n",
              "2           0    0        0       0  \n",
              "3           0    0        0       0  \n",
              "4           0    0        0       0  \n",
              "\n",
              "[5 rows x 14407 columns]"
            ]
          },
          "execution_count": 8,
          "metadata": {},
          "output_type": "execute_result"
        }
      ],
      "source": [
        "import requests\n",
        "import re\n",
        "import string\n",
        "from sklearn.feature_extraction.text import CountVectorizer\n",
        "\n",
        "def remove_numbers(text):\n",
        "    text = re.sub(r\"[0-9]\", \" \", text)\n",
        "    return \" \".join(text.split())\n",
        "\n",
        "\n",
        "def remove_unprintable_(text):\n",
        "    printable = set(string.printable + \"ñáéíóúü\" + \"ÑÁÉÍÓÚÜ\")\n",
        "    text = \"\".join(filter(lambda x: x in printable, text))\n",
        "    return text\n",
        "\n",
        "def remove_punctuation(text):\n",
        "    pattern = re.compile(r\"[^\\w\\sáéíóúüñÁÉÍÓÚÜÑ]\")\n",
        "    t = pattern.sub(r\" \", text)\n",
        "    return re.sub(\" +\", \" \", t)\n",
        "\n",
        "\n",
        "def reduce_spam(text):\n",
        "    text = re.sub(r\"(\\w+)(\\s+\\1){2,}\", r\"\\1\", text)\n",
        "    text = re.sub(r\"(\\w+\\s+\\w+)(\\s+\\1){2,}\", r\"\\1\", text)\n",
        "    return text\n",
        "\n",
        "\n",
        "def remove_vowels_accents(text):\n",
        "    return (\n",
        "        text.replace(\"á\", \"a\")\n",
        "        .replace(\"é\", \"e\")\n",
        "        .replace(\"í\", \"i\")\n",
        "        .replace(\"ó\", \"o\")\n",
        "        .replace(\"ú\", \"u\")\n",
        "        .replace(\"ü\", \"u\")\n",
        "    )\n",
        "\n",
        "def remove_stopwords(text, stopwords_list):\n",
        "    return \" \".join(\n",
        "        [word for word in str(text).split() if word not in stopwords_list]\n",
        "    )\n",
        "\n",
        "url = \"https://raw.githubusercontent.com/Alir3z4/stop-words/master/spanish.txt\"\n",
        "r = requests.get(url)\n",
        "\n",
        "stopwords_list = r.text.splitlines()\n",
        "\n",
        "def preprocesar(text):\n",
        "    text = text.lower()\n",
        "    text = remove_numbers(text)\n",
        "    text = remove_unprintable_(text)\n",
        "    text = remove_punctuation(text)\n",
        "    text = reduce_spam(text)\n",
        "    text = remove_stopwords(text, stopwords_list)\n",
        "    text = remove_vowels_accents(text)\n",
        "    return text.strip()\n",
        "\n",
        "\n",
        "# Extraer los vectores\n",
        "vectorizer = CountVectorizer(preprocessor=preprocesar, min_df=2)\n",
        "vectors = vectorizer.fit_transform(df[\"Noticia\"])\n",
        "\n",
        "# Incorporar los vectores como dataframe\n",
        "X = pd.DataFrame(vectors.toarray(), columns=vectorizer.get_feature_names_out())\n",
        "y = df[\"Clasificación\"]\n",
        "\n",
        "df_vectorizado = pd.concat([y, X], axis=1)\n",
        "df_vectorizado.head()\n"
      ]
    },
    {
      "cell_type": "markdown",
      "metadata": {
        "id": "B3b92IPxXQWn",
        "pycharm": {}
      },
      "source": [
        "### Pregunta 1\n",
        "\n",
        "Cargue los datos e indique lo siguiente:\n",
        "\n",
        "- Tamaño del dataset vectorizado (cantidad de instancias y atributos).\n",
        "- ¿Cuántas clases hay en la columna \"Clasificación\" y cuáles son sus nombres?\n",
        "- ¿Cuántas instancias hay en cada clase?\n",
        "\n",
        "Indique en cada caso cómo obtuvo la respuesta, es decir, adjunte código.\n"
      ]
    },
    {
      "cell_type": "code",
      "execution_count": 23,
      "metadata": {
        "id": "2lmQOZVb8qIE"
      },
      "outputs": [
        {
          "name": "stdout",
          "output_type": "stream",
          "text": [
            "Dimensiones del dataset: (1217, 14407) \n",
            "\n",
            "Cantidad de clases: 7\n",
            "Clases: ['Otra' 'Regulaciones' 'Alianzas' 'Macroeconomia' 'Innovacion'\n",
            " 'Sostenibilidad' 'Reputacion'] \n",
            "\n",
            "Cantidad de elementos por clase:\n",
            " Clasificación\n",
            "Macroeconomia     340\n",
            "Alianzas          247\n",
            "Innovacion        195\n",
            "Regulaciones      142\n",
            "Sostenibilidad    137\n",
            "Otra              130\n",
            "Reputacion         26\n",
            "Name: count, dtype: int64\n"
          ]
        }
      ],
      "source": [
        "#Respuesta\n",
        "print(\"Dimensiones del dataset:\", df_vectorizado.shape, \"\\n\")\n",
        "print(\"Cantidad de clases:\", len(df_vectorizado[\"Clasificación\"].unique()))\n",
        "print(\"Clases:\", df_vectorizado[\"Clasificación\"].unique(), \"\\n\")\n",
        "print(\"Cantidad de elementos por clase:\\n\", df_vectorizado[\"Clasificación\"].value_counts())"
      ]
    },
    {
      "cell_type": "markdown",
      "metadata": {
        "id": "JXcHtXFUXQW1",
        "pycharm": {}
      },
      "source": [
        "### Pregunta 2\n"
      ]
    },
    {
      "cell_type": "markdown",
      "metadata": {
        "id": "651JYu7VXQW2",
        "pycharm": {}
      },
      "source": [
        "En esta parte useremos el clasificador **Decision Tree**. Veremos distintas formas de usarlo, y vamos a compararlas utilizando diversas métricas.\n"
      ]
    },
    {
      "cell_type": "markdown",
      "metadata": {
        "id": "6HRB6oDBXQW3",
        "pycharm": {}
      },
      "source": [
        "Usando el siguiente código, entrenaremos un clasificador con los datos cargados (X, y) y haremos una predicción sobre los mismos datos empleando dicho clasificador entrenado. Luego, se mostrarán las métricas de **accuracy**, **precision**, **recall** y **f1-score**.\n"
      ]
    },
    {
      "cell_type": "code",
      "execution_count": 25,
      "metadata": {
        "ExecuteTime": {
          "end_time": "2020-09-28T01:11:33.665446Z",
          "start_time": "2020-09-28T01:11:33.559713Z"
        },
        "colab": {
          "base_uri": "https://localhost:8080/"
        },
        "id": "TIKF6nyJXQW3",
        "outputId": "f24ed812-8a7a-44f7-f87e-80da86d88c84",
        "pycharm": {}
      },
      "outputs": [
        {
          "name": "stdout",
          "output_type": "stream",
          "text": [
            "Accuracy: 0.9967132292522597\n",
            "                precision    recall  f1-score   support\n",
            "\n",
            "      Alianzas       0.99      1.00      0.99       247\n",
            "    Innovacion       1.00      1.00      1.00       195\n",
            " Macroeconomia       1.00      1.00      1.00       340\n",
            "          Otra       1.00      0.98      0.99       130\n",
            "  Regulaciones       1.00      0.99      1.00       142\n",
            "    Reputacion       1.00      1.00      1.00        26\n",
            "Sostenibilidad       1.00      0.99      1.00       137\n",
            "\n",
            "      accuracy                           1.00      1217\n",
            "     macro avg       1.00      1.00      1.00      1217\n",
            "  weighted avg       1.00      1.00      1.00      1217\n",
            "\n"
          ]
        }
      ],
      "source": [
        "from sklearn.tree import DecisionTreeClassifier\n",
        "from sklearn.metrics import accuracy_score\n",
        "from sklearn.metrics import classification_report\n",
        "\n",
        "clf = DecisionTreeClassifier()\n",
        "clf.fit(X, y)\n",
        "y_pred = clf.predict(X)\n",
        "print(\"Accuracy:\", accuracy_score(y, y_pred))\n",
        "print(classification_report(y, y_pred))"
      ]
    },
    {
      "cell_type": "markdown",
      "metadata": {
        "id": "pNEQK4DYXQW6",
        "pycharm": {}
      },
      "source": [
        "De acuerdo a los resultados obtenidos:\n",
        "\n",
        "- ¿Qué opina sobre las predicciones?\n",
        "\n",
        "- ¿Qué problema puede identificar?\n"
      ]
    },
    {
      "cell_type": "markdown",
      "metadata": {
        "id": "JhWup6DvGMJr"
      },
      "source": [
        "**Respuesta:**\n",
        "\n",
        "Las métricas son tan altas que nos hacen dudar del test con el que se probó el modelo.\n",
        "\n",
        "Primero podemos notar que se utilizaron los mismos datos de entrenamiento para el testeo del modelo, por lo que este tiene muy buenos resultados con estos, pero probablemente no obtenga resultados tan buenos con datos con los que no ha trabajado anteriormente."
      ]
    },
    {
      "cell_type": "markdown",
      "metadata": {
        "id": "ZfTp-Sn3XADF"
      },
      "source": [
        "### Pregunta 3.1\n"
      ]
    },
    {
      "cell_type": "markdown",
      "metadata": {
        "id": "Z4uSWz6fXADG"
      },
      "source": [
        "Ahora lo que haremos será dividir nuestro dataset en 70% entrenar (**_training set_**) y 30% para testear (**_testing set_**). Use la función **_train_test_split()_** de _sklearn_ y utilice las variables `X_train, X_test, y_train, y_test`.\n"
      ]
    },
    {
      "cell_type": "markdown",
      "metadata": {
        "id": "K2O9O-2HXADG"
      },
      "source": [
        "Escriba el código necesario para dividir los datos, entrenar el modelo e indicar el **accuracy**, **precision** y **recall** del clasificador.\n",
        "\n",
        "Entrene usando el **_training set_** y pruebe sobre el **_testing set_**, en base a la división 70%-30%, respectivamente\n",
        "\n",
        "**NOTA: para dividir el dataset use el parámetro `stratify=y`.**\n"
      ]
    },
    {
      "cell_type": "code",
      "execution_count": 26,
      "metadata": {
        "ExecuteTime": {
          "end_time": "2020-09-28T01:11:33.683493Z",
          "start_time": "2020-09-28T01:11:33.667451Z"
        },
        "id": "cYvg3e6nXQW9",
        "pycharm": {}
      },
      "outputs": [
        {
          "name": "stdout",
          "output_type": "stream",
          "text": [
            "Accuracy: 0.7978142076502732\n",
            "                precision    recall  f1-score   support\n",
            "\n",
            "      Alianzas       0.82      0.86      0.84        74\n",
            "    Innovacion       0.81      0.86      0.84        59\n",
            " Macroeconomia       0.75      0.90      0.82       102\n",
            "          Otra       0.76      0.67      0.71        39\n",
            "  Regulaciones       0.86      0.58      0.69        43\n",
            "    Reputacion       0.86      0.75      0.80         8\n",
            "Sostenibilidad       0.85      0.68      0.76        41\n",
            "\n",
            "      accuracy                           0.80       366\n",
            "     macro avg       0.82      0.76      0.78       366\n",
            "  weighted avg       0.80      0.80      0.79       366\n",
            "\n"
          ]
        }
      ],
      "source": [
        "# Recuerde usar las variables X_train, X_test, y_train, y_test\n",
        "from sklearn.model_selection import train_test_split\n",
        "import numpy as np\n",
        "\n",
        "X_train, X_test, y_train, y_test = train_test_split(X, y, test_size=0.3, stratify=y)\n",
        "\n",
        "clf = DecisionTreeClassifier()\n",
        "clf.fit(X_train, y_train)\n",
        "y_pred = clf.predict(X_test)\n",
        "print(\"Accuracy:\", accuracy_score(y_test, y_pred))\n",
        "print(classification_report(y_test, y_pred))\n",
        "print(np.mean(y_pred[\"accuracy\"]))\n",
        "print(np.mean(y_pred[\"precision\"]))\n",
        "print(np.mean(y_pred[\"recall\"]))"
      ]
    },
    {
      "cell_type": "markdown",
      "metadata": {
        "id": "ynsWofRRXADJ"
      },
      "source": [
        "### Pregunta 3.2.\n",
        "\n",
        "¿Qué opina sobre las predicciones obtenidas en la pregunta anterior?\n",
        "\n",
        "Responda lo siguiente:\n",
        "\n",
        "1. Comparando los clasificadores de las preguntas 2 y 3 ¿Cuál tiene peores resultados? ¿Por qué?\n",
        "2. ¿Cuál de las dos formas de entrenar el clasificador prefiere? Justifique su respuesta\n"
      ]
    },
    {
      "cell_type": "markdown",
      "metadata": {
        "id": "kYOSz94yHwSF"
      },
      "source": [
        "**Respuesta:**\n",
        "\n",
        "No son tan buenas como la de la situación anterior, pero se puede notar que en esta ocasión el modelo si tuvo un aprendizaje de los datos en vez de memorizarlos.\n",
        "\n",
        "Númericamente los resultados del segundo modelo son peores pero esto se debe a que en esta ocasión utilizamos datos desconocidos para el modelo durante el entrenamiento al momento de realizar el testeo, y probablemente este modelo obtendría mejores resultados para datos nuevos pues sería más generalizable.\n",
        "\n",
        "La forma correcta de entrenar modelos es usando datos desconocidos durante el testeo para que al momento de revisar los resultados obtengamos valores más realistas, por lo que elegiriamos el segundo dado que si podemos visualizar de forma efectiva unos resultados que se corresponden más con lo esperado."
      ]
    },
    {
      "cell_type": "markdown",
      "metadata": {
        "id": "tL6TPIutXQXD",
        "pycharm": {}
      },
      "source": [
        "### Pregunta 4\n",
        "\n",
        "El siguiente código genera una matriz de confusión de los resultados de clasificación de la pregunta anterior. Ejecute el bloque completo para visualizar el gráfico. Interprete la matriz y comente sobre cada uno de los valores distintos de 0 en la matriz y describa lo que representa.\n",
        "\n",
        "_Verifique que los resultados que se imprimen concuerden con su respuesta (por el factor aleatorio del estimador). Nota: Para obtener un comportamiento determinista existe el parámetro **random_state**, por ejemplo: clf = DecisionTreeClassifier(random_state=2)._\n"
      ]
    },
    {
      "cell_type": "code",
      "execution_count": 30,
      "metadata": {
        "id": "_inbTdXl55-0",
        "outputId": "66ba42cf-7d34-4ade-ed45-09fdda363b04"
      },
      "outputs": [
        {
          "data": {
            "image/png": "[encoded data removed]",
            "text/plain": [
              "<Figure size 640x480 with 2 Axes>"
            ]
          },
          "metadata": {},
          "output_type": "display_data"
        }
      ],
      "source": [
        "# EJECUTAR ESTE BLOQUE\n",
        "import seaborn as sns\n",
        "import matplotlib.pyplot as plt\n",
        "\n",
        "from sklearn.metrics import confusion_matrix\n",
        "from sklearn.utils.multiclass import unique_labels\n",
        "\n",
        "# Compute confusion matrix. By default is not normalized (normalize=None)\n",
        "# If necessary change 'y_pred' according to your variable name\n",
        "cm = confusion_matrix(y_test, y_pred)\n",
        "\n",
        "# Only use the labels that appear in the data\n",
        "classes = unique_labels(y_test, y_pred)\n",
        "\n",
        "df = pd.DataFrame(cm, index=classes, columns=classes)\n",
        "\n",
        "g = sns.heatmap(df, annot=True, cmap=\"Blues\")\n",
        "g.set_yticklabels(g.get_yticklabels(), rotation=0)\n",
        "\n",
        "plt.title('Confusion matrix \\n')\n",
        "plt.xlabel('Predicted label')\n",
        "plt.ylabel('True label')\n",
        "\n",
        "plt.autoscale()\n"
      ]
    },
    {
      "cell_type": "markdown",
      "metadata": {
        "id": "EioZq9ZEXQXG",
        "pycharm": {}
      },
      "source": [
        "**Respuesta:**\n",
        "\n",
        "Como la mayor parte de los datos están en la diagonal se puede notar que el modelo predice efectivamente gran parte de los datos. También podemos visualizar que los datos están desbalanceados, principalmente se observa una gran diferencia entre las clases \"Macroeconomía\" y \"Reputación\", de la cual la primera posee alrededor de 100 datos mientras que la segunda tan solo 8, lo cual no permite al modelo aprender a clasificar clases minoritarias. "
      ]
    },
    {
      "cell_type": "markdown",
      "metadata": {
        "id": "8nnZ5QTPXADM"
      },
      "source": [
        "### Pregunta 5"
      ]
    },
    {
      "cell_type": "markdown",
      "metadata": {
        "id": "XmZSQQSJXADN"
      },
      "source": [
        "Para este clasificador utilizaremos Cross-validation. Con cross-validation, el conjunto de entrenamiento se divide en $k$ conjuntos disjuntos; se entrena sobre los datos correspondientes a $k-1$ de éstos, y se evalúa sobre el conjunto restante. Esto se repite $k$ veces, evaluando siempre sobre un conjunto distinto. Teniendo en cuenta el parámetro $k$, a éste método se le llama $k$-fold cross-validation.\n",
        "\n",
        "El código que está a continuación realizará 10-fold cross-validation usando Decision Tree sobre los datos. La forma de estimar el rendimiento del clasificador es, entre otras cosas, calculando el promedio de todos los k-folds.\n",
        "\n",
        "Además se muestra la predición sobre los datos para testear.\n"
      ]
    },
    {
      "cell_type": "code",
      "execution_count": 32,
      "metadata": {
        "ExecuteTime": {
          "end_time": "2020-09-28T01:11:34.015989Z",
          "start_time": "2020-09-28T01:11:33.939789Z"
        },
        "id": "gJyyPpzxXQXI",
        "outputId": "906115f2-9f4c-4b27-efa9-af3e8f40049d",
        "pycharm": {}
      },
      "outputs": [
        {
          "name": "stdout",
          "output_type": "stream",
          "text": [
            "Promedio Precision: 0.7965088655183358\n",
            "Promedio Recall: 0.7667098013294387\n",
            "Promedio F1-score: 0.7679477137029559\n",
            "Promedio Accucary: 0.7863297656144155\n"
          ]
        }
      ],
      "source": [
        "# EJECUTAR ESTE BLOQUE\n",
        "\n",
        "from sklearn.model_selection import cross_validate\n",
        "import numpy as np\n",
        "\n",
        "scoring = ['precision_macro', 'recall_macro', 'accuracy', 'f1_macro']\n",
        "cv_results = cross_validate(\n",
        "    clf, X, y, cv=10, scoring=scoring, return_train_score=True)\n",
        "\n",
        "print('Promedio Precision:', np.mean(cv_results['test_precision_macro']))\n",
        "print('Promedio Recall:', np.mean(cv_results['test_recall_macro']))\n",
        "print('Promedio F1-score:', np.mean(cv_results['test_f1_macro']))\n",
        "print('Promedio Accuracy:', np.mean(cv_results['test_accuracy']))\n",
        "\n",
        "# Si quisieramos mostrar el resultado de cada k-fold, deberiamos quitar la\n",
        "# funcion np.mean la cual retorna el promedio. Esto mostraría una lista con el resultado de cada fold\n"
      ]
    },
    {
      "cell_type": "markdown",
      "metadata": {
        "id": "U6_ceSH0XQXK",
        "pycharm": {}
      },
      "source": [
        "- Compare los valores de las métricas con respecto a lo obtenido en la pregunta 3.1. Comente en qué difieren y por qué.\n",
        "- ¿Qué beneficios tiene emplear cross-validation?\n",
        "\n"
      ]
    },
    {
      "cell_type": "markdown",
      "metadata": {
        "id": "HUxJzb3HH40p"
      },
      "source": [
        "**Respuesta:**\n",
        "\n",
        "Las métricas empeoraron un poco, y podemos suponer que esta diferencia es debido al overfitting dado que al utilizar más datos para el entrenamiento, como las particiones son del 90% de datos para el entrenamiento y el resto para el testeo, por lo que este modelo puede estar intentando memorizar la información más que intentar aprender algún patrón. Uno podría pensar que el modelo mejoraría al entrenarlo varias veces, pero en este caso no resultó así debido a la cantidad de particiones que se eligieron.\n",
        "\n",
        "Por lo general, emplear cross-validation tiene el beneficio de poder utilizar todos los datos del dataset en varias etapas del proceso de aprendizaje, tanto en los datos de entrenamiento como en los de testeo. También podemos decir que el modelo resultante va a predecir en base a varios modelos resultantes, por lo que si alguno de estos estuviera sesgado, mientras este no esté presente en la mayoría, al tener varios no se notaría este sesgo en el producto final."
      ]
    },
    {
      "cell_type": "markdown",
      "metadata": {
        "id": "RlpDuPmMyUNx"
      },
      "source": [
        "### Pregunta 6"
      ]
    },
    {
      "cell_type": "markdown",
      "metadata": {
        "id": "WimSita0yZzO"
      },
      "source": [
        "Cuando hacemos clasificación en Data Mining queremos encontrar un patrón en los datos. Analice los atributos de los datos junto a los resultados obtenidos en la pregunta 3.1 y describa sus principales observaciones. ¿Cómo se relacionan los atributos X con la clase de interés y? Es una pregunta abierta, puede apoyar su análisis con tablas y/o visualizaciones.\n",
        "\n",
        "**Respuesta:**\n",
        "\n",
        "Una de las principales observaciones es que cada tipo de noticia utilizará un vocabulario adecuado según el contexto, por lo que deben existir palabras claves con las que el modelo podría casi asegurar que se está hablando de un cierto tema, incluyendo el nombre de este mismo, por lo que podemos suponer que existen atributos X que están fuertemente relacionados con la etiqueta.\n",
        "\n",
        "El modelo resultante de la pregunta 3.1 probablemente realiza el procedimiento descrito, de modo que busca que el elemento analizado posea estas palabras clave, pudiendo clasificar erróneamente ciertos valores debido a la aparición de estas palabras clave para una cierta clasificación pese a que es otra."
      ]
    },
    {
      "cell_type": "code",
      "execution_count": 41,
      "metadata": {},
      "outputs": [
        {
          "data": {
            "text/plain": [
              "<Axes: >"
            ]
          },
          "execution_count": 41,
          "metadata": {},
          "output_type": "execute_result"
        },
        {
          "data": {
            "image/png": "[encoded data removed]",
            "text/plain": [
              "<Figure size 1000x800 with 1 Axes>"
            ]
          },
          "metadata": {},
          "output_type": "display_data"
        }
      ],
      "source": [
        "df_vectorizado[\"Clasificación\"].hist(bins=7, figsize=(10, 8))"
      ]
    },
    {
      "cell_type": "markdown",
      "metadata": {},
      "source": [
        "En el modelo resultante de la pregunta 3.1 se podía evidenciar un desbalance y ahora lo apoyamos con este histograma. Debido a esto el modelo no era capaz de aprender a clasificar ciertas etiquetas minoritarias. "
      ]
    },
    {
      "cell_type": "code",
      "execution_count": 45,
      "metadata": {},
      "outputs": [
        {
          "data": {
            "text/plain": [
              "[Text(0.7427386293316832, 0.9807692307692307, 'infinito <= 0.5\\ngini = 0.817\\nsamples = 851\\nvalue = [173, 136, 238, 91, 99, 18, 96]'),\n",
              " Text(0.5399327042079208, 0.9423076923076923, 'bbb <= 0.5\\ngini = 0.824\\nsamples = 650\\nvalue = [168, 132, 58, 86, 95, 17, 94]'),\n",
              " Text(0.36386138613861385, 0.9038461538461539, 'aliamos <= 0.5\\ngini = 0.657\\nsamples = 329\\nvalue = [165, 12, 14, 4, 93, 17, 24]'),\n",
              " Text(0.31683168316831684, 0.8653846153846154, 'regula <= 0.5\\ngini = 0.725\\nsamples = 206\\nvalue = [49, 12, 14, 1, 90, 17, 23]'),\n",
              " Text(0.29207920792079206, 0.8269230769230769, 'repunto <= 0.5\\ngini = 0.79\\nsamples = 150\\nvalue = [48, 11, 14, 1, 36, 17, 23]'),\n",
              " Text(0.2722772277227723, 0.7884615384615384, 'renovable <= 0.5\\ngini = 0.75\\nsamples = 132\\nvalue = [47, 11, 14, 1, 36, 0, 23]'),\n",
              " Text(0.2623762376237624, 0.75, 'ipad <= 0.5\\ngini = 0.732\\nsamples = 122\\nvalue = [47, 11, 14, 1, 36, 0, 13]'),\n",
              " Text(0.2524752475247525, 0.7115384615384616, 'semanalmente <= 0.5\\ngini = 0.709\\nsamples = 115\\nvalue = [47, 11, 7, 1, 36, 0, 13]'),\n",
              " Text(0.24257425742574257, 0.6730769230769231, 'coloco <= 0.5\\ngini = 0.708\\nsamples = 106\\nvalue = [47, 11, 7, 1, 27, 0, 13]'),\n",
              " Text(0.20297029702970298, 0.6346153846153846, 'alianza <= 0.5\\ngini = 0.779\\nsamples = 66\\nvalue = [20, 11, 7, 0, 15, 0, 13]'),\n",
              " Text(0.19306930693069307, 0.5961538461538461, 'future <= 0.5\\ngini = 0.79\\nsamples = 58\\nvalue = [12, 11, 7, 0, 15, 0, 13]'),\n",
              " Text(0.17326732673267325, 0.5576923076923077, 'complementos <= 0.5\\ngini = 0.774\\nsamples = 48\\nvalue = [10, 11, 7, 0, 15, 0, 5]'),\n",
              " Text(0.16336633663366337, 0.5192307692307693, 'digital <= 0.5\\ngini = 0.786\\nsamples = 43\\nvalue = [10, 11, 7, 0, 10, 0, 5]'),\n",
              " Text(0.15346534653465346, 0.4807692307692308, 'seguras <= 0.5\\ngini = 0.782\\nsamples = 39\\nvalue = [10, 11, 7, 0, 6, 0, 5]'),\n",
              " Text(0.14356435643564355, 0.4423076923076923, 'axis <= 0.5\\ngini = 0.787\\nsamples = 34\\nvalue = [10, 6, 7, 0, 6, 0, 5]'),\n",
              " Text(0.1188118811881188, 0.40384615384615385, 'realicen <= 0.5\\ngini = 0.749\\nsamples = 29\\nvalue = [10, 6, 7, 0, 5, 0, 1]'),\n",
              " Text(0.09900990099009901, 0.36538461538461536, 'precio <= 0.5\\ngini = 0.688\\nsamples = 23\\nvalue = [10, 2, 6, 0, 5, 0, 0]'),\n",
              " Text(0.0891089108910891, 0.3269230769230769, 'mina <= 0.5\\ngini = 0.655\\nsamples = 20\\nvalue = [10, 2, 3, 0, 5, 0, 0]'),\n",
              " Text(0.07920792079207921, 0.28846153846153844, 'dichos <= 0.5\\ngini = 0.586\\nsamples = 18\\nvalue = [10, 0, 3, 0, 5, 0, 0]'),\n",
              " Text(0.06930693069306931, 0.25, 'caicedo <= 0.5\\ngini = 0.539\\nsamples = 16\\nvalue = [10, 0, 3, 0, 3, 0, 0]'),\n",
              " Text(0.0594059405940594, 0.21153846153846154, 'acero <= 0.5\\ngini = 0.439\\nsamples = 14\\nvalue = [10, 0, 3, 0, 1, 0, 0]'),\n",
              " Text(0.04950495049504951, 0.17307692307692307, 'separarse <= 1.5\\ngini = 0.355\\nsamples = 13\\nvalue = [10, 0, 3, 0, 0, 0, 0]'),\n",
              " Text(0.039603960396039604, 0.1346153846153846, 'presidenta <= 0.5\\ngini = 0.278\\nsamples = 12\\nvalue = [10, 0, 2, 0, 0, 0, 0]'),\n",
              " Text(0.0297029702970297, 0.09615384615384616, 'permitan <= 0.5\\ngini = 0.408\\nsamples = 7\\nvalue = [5, 0, 2, 0, 0, 0, 0]'),\n",
              " Text(0.019801980198019802, 0.057692307692307696, 'aca <= 0.5\\ngini = 0.5\\nsamples = 4\\nvalue = [2, 0, 2, 0, 0, 0, 0]'),\n",
              " Text(0.009900990099009901, 0.019230769230769232, 'gini = 0.0\\nsamples = 2\\nvalue = [0, 0, 2, 0, 0, 0, 0]'),\n",
              " Text(0.0297029702970297, 0.019230769230769232, 'gini = 0.0\\nsamples = 2\\nvalue = [2, 0, 0, 0, 0, 0, 0]'),\n",
              " Text(0.039603960396039604, 0.057692307692307696, 'gini = 0.0\\nsamples = 3\\nvalue = [3, 0, 0, 0, 0, 0, 0]'),\n",
              " Text(0.04950495049504951, 0.09615384615384616, 'gini = 0.0\\nsamples = 5\\nvalue = [5, 0, 0, 0, 0, 0, 0]'),\n",
              " Text(0.0594059405940594, 0.1346153846153846, 'gini = 0.0\\nsamples = 1\\nvalue = [0, 0, 1, 0, 0, 0, 0]'),\n",
              " Text(0.06930693069306931, 0.17307692307692307, 'gini = 0.0\\nsamples = 1\\nvalue = [0, 0, 0, 0, 1, 0, 0]'),\n",
              " Text(0.07920792079207921, 0.21153846153846154, 'gini = 0.0\\nsamples = 2\\nvalue = [0, 0, 0, 0, 2, 0, 0]'),\n",
              " Text(0.0891089108910891, 0.25, 'gini = 0.0\\nsamples = 2\\nvalue = [0, 0, 0, 0, 2, 0, 0]'),\n",
              " Text(0.09900990099009901, 0.28846153846153844, 'gini = 0.0\\nsamples = 2\\nvalue = [0, 2, 0, 0, 0, 0, 0]'),\n",
              " Text(0.10891089108910891, 0.3269230769230769, 'gini = 0.0\\nsamples = 3\\nvalue = [0, 0, 3, 0, 0, 0, 0]'),\n",
              " Text(0.13861386138613863, 0.36538461538461536, 'transfiere <= 0.5\\ngini = 0.5\\nsamples = 6\\nvalue = [0, 4, 1, 0, 0, 0, 1]'),\n",
              " Text(0.12871287128712872, 0.3269230769230769, 'gini = 0.0\\nsamples = 4\\nvalue = [0, 4, 0, 0, 0, 0, 0]'),\n",
              " Text(0.1485148514851485, 0.3269230769230769, 'sentirse <= 1.0\\ngini = 0.5\\nsamples = 2\\nvalue = [0, 0, 1, 0, 0, 0, 1]'),\n",
              " Text(0.13861386138613863, 0.28846153846153844, 'gini = 0.0\\nsamples = 1\\nvalue = [0, 0, 1, 0, 0, 0, 0]'),\n",
              " Text(0.15841584158415842, 0.28846153846153844, 'gini = 0.0\\nsamples = 1\\nvalue = [0, 0, 0, 0, 0, 0, 1]'),\n",
              " Text(0.16831683168316833, 0.40384615384615385, 'certidumbre <= 0.5\\ngini = 0.32\\nsamples = 5\\nvalue = [0, 0, 0, 0, 1, 0, 4]'),\n",
              " Text(0.15841584158415842, 0.36538461538461536, 'gini = 0.0\\nsamples = 4\\nvalue = [0, 0, 0, 0, 0, 0, 4]'),\n",
              " Text(0.1782178217821782, 0.36538461538461536, 'gini = 0.0\\nsamples = 1\\nvalue = [0, 0, 0, 0, 1, 0, 0]'),\n",
              " Text(0.16336633663366337, 0.4423076923076923, 'gini = 0.0\\nsamples = 5\\nvalue = [0, 5, 0, 0, 0, 0, 0]'),\n",
              " Text(0.17326732673267325, 0.4807692307692308, 'gini = 0.0\\nsamples = 4\\nvalue = [0, 0, 0, 0, 4, 0, 0]'),\n",
              " Text(0.18316831683168316, 0.5192307692307693, 'gini = 0.0\\nsamples = 5\\nvalue = [0, 0, 0, 0, 5, 0, 0]'),\n",
              " Text(0.21287128712871287, 0.5576923076923077, 'sostenibilidad <= 0.5\\ngini = 0.32\\nsamples = 10\\nvalue = [2, 0, 0, 0, 0, 0, 8]'),\n",
              " Text(0.20297029702970298, 0.5192307692307693, 'gini = 0.0\\nsamples = 2\\nvalue = [2, 0, 0, 0, 0, 0, 0]'),\n",
              " Text(0.22277227722772278, 0.5192307692307693, 'gini = 0.0\\nsamples = 8\\nvalue = [0, 0, 0, 0, 0, 0, 8]'),\n",
              " Text(0.21287128712871287, 0.5961538461538461, 'gini = 0.0\\nsamples = 8\\nvalue = [8, 0, 0, 0, 0, 0, 0]'),\n",
              " Text(0.28217821782178215, 0.6346153846153846, 'econometricos <= 0.5\\ngini = 0.454\\nsamples = 40\\nvalue = [27, 0, 0, 1, 12, 0, 0]'),\n",
              " Text(0.2623762376237624, 0.5961538461538461, 'decorar <= 0.5\\ngini = 0.305\\nsamples = 32\\nvalue = [26, 0, 0, 0, 6, 0, 0]'),\n",
              " Text(0.2524752475247525, 0.5576923076923077, 'identificando <= 0.5\\ngini = 0.185\\nsamples = 29\\nvalue = [26, 0, 0, 0, 3, 0, 0]'),\n",
              " Text(0.24257425742574257, 0.5192307692307693, 'travis <= 1.0\\ngini = 0.071\\nsamples = 27\\nvalue = [26, 0, 0, 0, 1, 0, 0]'),\n",
              " Text(0.23267326732673269, 0.4807692307692308, 'gini = 0.0\\nsamples = 26\\nvalue = [26, 0, 0, 0, 0, 0, 0]'),\n",
              " Text(0.2524752475247525, 0.4807692307692308, 'gini = 0.0\\nsamples = 1\\nvalue = [0, 0, 0, 0, 1, 0, 0]'),\n",
              " Text(0.2623762376237624, 0.5192307692307693, 'gini = 0.0\\nsamples = 2\\nvalue = [0, 0, 0, 0, 2, 0, 0]'),\n",
              " Text(0.2722772277227723, 0.5576923076923077, 'gini = 0.0\\nsamples = 3\\nvalue = [0, 0, 0, 0, 3, 0, 0]'),\n",
              " Text(0.30198019801980197, 0.5961538461538461, 'constituir <= 0.5\\ngini = 0.406\\nsamples = 8\\nvalue = [1, 0, 0, 1, 6, 0, 0]'),\n",
              " Text(0.29207920792079206, 0.5576923076923077, 'gini = 0.0\\nsamples = 6\\nvalue = [0, 0, 0, 0, 6, 0, 0]'),\n",
              " Text(0.3118811881188119, 0.5576923076923077, 'utilizadas <= 0.5\\ngini = 0.5\\nsamples = 2\\nvalue = [1, 0, 0, 1, 0, 0, 0]'),\n",
              " Text(0.30198019801980197, 0.5192307692307693, 'gini = 0.0\\nsamples = 1\\nvalue = [0, 0, 0, 1, 0, 0, 0]'),\n",
              " Text(0.3217821782178218, 0.5192307692307693, 'gini = 0.0\\nsamples = 1\\nvalue = [1, 0, 0, 0, 0, 0, 0]'),\n",
              " Text(0.2623762376237624, 0.6730769230769231, 'gini = 0.0\\nsamples = 9\\nvalue = [0, 0, 0, 0, 9, 0, 0]'),\n",
              " Text(0.2722772277227723, 0.7115384615384616, 'gini = 0.0\\nsamples = 7\\nvalue = [0, 0, 7, 0, 0, 0, 0]'),\n",
              " Text(0.28217821782178215, 0.75, 'gini = 0.0\\nsamples = 10\\nvalue = [0, 0, 0, 0, 0, 0, 10]'),\n",
              " Text(0.3118811881188119, 0.7884615384615384, 'promueve <= 0.5\\ngini = 0.105\\nsamples = 18\\nvalue = [1, 0, 0, 0, 0, 17, 0]'),\n",
              " Text(0.30198019801980197, 0.75, 'gini = 0.0\\nsamples = 17\\nvalue = [0, 0, 0, 0, 0, 17, 0]'),\n",
              " Text(0.3217821782178218, 0.75, 'gini = 0.0\\nsamples = 1\\nvalue = [1, 0, 0, 0, 0, 0, 0]'),\n",
              " Text(0.3415841584158416, 0.8269230769230769, 'asociada <= 0.5\\ngini = 0.07\\nsamples = 56\\nvalue = [1, 1, 0, 0, 54, 0, 0]'),\n",
              " Text(0.3316831683168317, 0.7884615384615384, 'gini = 0.0\\nsamples = 54\\nvalue = [0, 0, 0, 0, 54, 0, 0]'),\n",
              " Text(0.35148514851485146, 0.7884615384615384, 'west <= 0.5\\ngini = 0.5\\nsamples = 2\\nvalue = [1, 1, 0, 0, 0, 0, 0]'),\n",
              " Text(0.3415841584158416, 0.75, 'gini = 0.0\\nsamples = 1\\nvalue = [1, 0, 0, 0, 0, 0, 0]'),\n",
              " Text(0.3613861386138614, 0.75, 'gini = 0.0\\nsamples = 1\\nvalue = [0, 1, 0, 0, 0, 0, 0]'),\n",
              " Text(0.41089108910891087, 0.8653846153846154, 'inversionista <= 1.5\\ngini = 0.109\\nsamples = 123\\nvalue = [116, 0, 0, 3, 3, 0, 1]'),\n",
              " Text(0.400990099009901, 0.8269230769230769, 'modalidad <= 0.5\\ngini = 0.065\\nsamples = 120\\nvalue = [116, 0, 0, 0, 3, 0, 1]'),\n",
              " Text(0.3910891089108911, 0.7884615384615384, 'sufre <= 1.0\\ngini = 0.033\\nsamples = 118\\nvalue = [116, 0, 0, 0, 1, 0, 1]'),\n",
              " Text(0.3811881188118812, 0.75, 'calificadoras <= 0.5\\ngini = 0.017\\nsamples = 117\\nvalue = [116, 0, 0, 0, 1, 0, 0]'),\n",
              " Text(0.3712871287128713, 0.7115384615384616, 'gini = 0.0\\nsamples = 115\\nvalue = [115, 0, 0, 0, 0, 0, 0]'),\n",
              " Text(0.3910891089108911, 0.7115384615384616, 'gini = 0.5\\nsamples = 2\\nvalue = [1, 0, 0, 0, 1, 0, 0]'),\n",
              " Text(0.400990099009901, 0.75, 'gini = 0.0\\nsamples = 1\\nvalue = [0, 0, 0, 0, 0, 0, 1]'),\n",
              " Text(0.41089108910891087, 0.7884615384615384, 'gini = 0.0\\nsamples = 2\\nvalue = [0, 0, 0, 0, 2, 0, 0]'),\n",
              " Text(0.4207920792079208, 0.8269230769230769, 'gini = 0.0\\nsamples = 3\\nvalue = [0, 0, 0, 3, 0, 0, 0]'),\n",
              " Text(0.7160040222772277, 0.9038461538461539, 'coloco <= 0.5\\ngini = 0.729\\nsamples = 321\\nvalue = [3, 120, 44, 82, 2, 0, 70]'),\n",
              " Text(0.6498298267326733, 0.8653846153846154, 'climaticas <= 0.5\\ngini = 0.687\\nsamples = 243\\nvalue = [0, 110, 41, 29, 1, 0, 62]'),\n",
              " Text(0.6016398514851485, 0.8269230769230769, 'consumos <= 0.5\\ngini = 0.634\\nsamples = 202\\nvalue = [0, 110, 38, 25, 1, 0, 28]'),\n",
              " Text(0.5917388613861386, 0.7884615384615384, 'sostener <= 1.5\\ngini = 0.608\\nsamples = 193\\nvalue = [0, 110, 38, 16, 1, 0, 28]'),\n",
              " Text(0.5448638613861386, 0.75, 'innecesarios <= 0.5\\ngini = 0.574\\nsamples = 180\\nvalue = [0, 109, 37, 16, 1, 0, 17]'),\n",
              " Text(0.5006188118811881, 0.7115384615384616, 'seguras <= 0.5\\ngini = 0.657\\nsamples = 136\\nvalue = [0, 67, 37, 14, 1, 0, 17]'),\n",
              " Text(0.45173267326732675, 0.6730769230769231, 'crecieron <= 0.5\\ngini = 0.699\\nsamples = 94\\nvalue = [0, 33, 35, 11, 0, 0, 15]'),\n",
              " Text(0.41336633663366334, 0.6346153846153846, 'emision <= 0.5\\ngini = 0.708\\nsamples = 61\\nvalue = [0, 26, 12, 11, 0, 0, 12]'),\n",
              " Text(0.38613861386138615, 0.5961538461538461, 'econometricos <= 0.5\\ngini = 0.672\\nsamples = 54\\nvalue = [0, 26, 12, 10, 0, 0, 6]'),\n",
              " Text(0.3613861386138614, 0.5576923076923077, 'bancoomeva <= 0.5\\ngini = 0.625\\nsamples = 47\\nvalue = [0, 26, 6, 9, 0, 0, 6]'),\n",
              " Text(0.3415841584158416, 0.5192307692307693, 'journal <= 0.5\\ngini = 0.552\\nsamples = 41\\nvalue = [0, 26, 5, 4, 0, 0, 6]'),\n",
              " Text(0.3316831683168317, 0.4807692307692308, 'aprende <= 0.5\\ngini = 0.497\\nsamples = 38\\nvalue = [0, 26, 5, 4, 0, 0, 3]'),\n",
              " Text(0.3217821782178218, 0.4423076923076923, 'disponiendo <= 0.5\\ngini = 0.446\\nsamples = 36\\nvalue = [0, 26, 5, 4, 0, 0, 1]'),\n",
              " Text(0.3118811881188119, 0.40384615384615385, 'mayores <= 0.5\\ngini = 0.389\\nsamples = 34\\nvalue = [0, 26, 5, 2, 0, 0, 1]'),\n",
              " Text(0.28465346534653463, 0.36538461538461536, 'participada <= 0.5\\ngini = 0.296\\nsamples = 30\\nvalue = [0, 25, 2, 2, 0, 0, 1]'),\n",
              " Text(0.2599009900990099, 0.3269230769230769, 'mesas <= 0.5\\ngini = 0.196\\nsamples = 28\\nvalue = [0, 25, 1, 2, 0, 0, 0]'),\n",
              " Text(0.2400990099009901, 0.28846153846153844, 'adaptar <= 0.5\\ngini = 0.077\\nsamples = 25\\nvalue = [0, 24, 1, 0, 0, 0, 0]'),\n",
              " Text(0.2301980198019802, 0.25, 'gini = 0.0\\nsamples = 24\\nvalue = [0, 24, 0, 0, 0, 0, 0]'),\n",
              " Text(0.25, 0.25, 'gini = 0.0\\nsamples = 1\\nvalue = [0, 0, 1, 0, 0, 0, 0]'),\n",
              " Text(0.27970297029702973, 0.28846153846153844, 'economic <= 1.0\\ngini = 0.444\\nsamples = 3\\nvalue = [0, 1, 0, 2, 0, 0, 0]'),\n",
              " Text(0.2698019801980198, 0.25, 'gini = 0.0\\nsamples = 2\\nvalue = [0, 0, 0, 2, 0, 0, 0]'),\n",
              " Text(0.2896039603960396, 0.25, 'gini = 0.0\\nsamples = 1\\nvalue = [0, 1, 0, 0, 0, 0, 0]'),\n",
              " Text(0.3094059405940594, 0.3269230769230769, 'descanso <= 0.5\\ngini = 0.5\\nsamples = 2\\nvalue = [0, 0, 1, 0, 0, 0, 1]'),\n",
              " Text(0.2995049504950495, 0.28846153846153844, 'gini = 0.0\\nsamples = 1\\nvalue = [0, 0, 0, 0, 0, 0, 1]'),\n",
              " Text(0.3193069306930693, 0.28846153846153844, 'gini = 0.0\\nsamples = 1\\nvalue = [0, 0, 1, 0, 0, 0, 0]'),\n",
              " Text(0.33910891089108913, 0.36538461538461536, 'crimen <= 0.5\\ngini = 0.375\\nsamples = 4\\nvalue = [0, 1, 3, 0, 0, 0, 0]'),\n",
              " Text(0.3292079207920792, 0.3269230769230769, 'gini = 0.0\\nsamples = 3\\nvalue = [0, 0, 3, 0, 0, 0, 0]'),\n",
              " Text(0.349009900990099, 0.3269230769230769, 'gini = 0.0\\nsamples = 1\\nvalue = [0, 1, 0, 0, 0, 0, 0]'),\n",
              " Text(0.3316831683168317, 0.40384615384615385, 'gini = 0.0\\nsamples = 2\\nvalue = [0, 0, 0, 2, 0, 0, 0]'),\n",
              " Text(0.3415841584158416, 0.4423076923076923, 'gini = 0.0\\nsamples = 2\\nvalue = [0, 0, 0, 0, 0, 0, 2]'),\n",
              " Text(0.35148514851485146, 0.4807692307692308, 'gini = 0.0\\nsamples = 3\\nvalue = [0, 0, 0, 0, 0, 0, 3]'),\n",
              " Text(0.3811881188118812, 0.5192307692307693, 'inmobiliaria <= 0.5\\ngini = 0.278\\nsamples = 6\\nvalue = [0, 0, 1, 5, 0, 0, 0]'),\n",
              " Text(0.3712871287128713, 0.4807692307692308, 'gini = 0.0\\nsamples = 5\\nvalue = [0, 0, 0, 5, 0, 0, 0]'),\n",
              " Text(0.3910891089108911, 0.4807692307692308, 'gini = 0.0\\nsamples = 1\\nvalue = [0, 0, 1, 0, 0, 0, 0]'),\n",
              " Text(0.41089108910891087, 0.5576923076923077, 'mantenga <= 1.5\\ngini = 0.245\\nsamples = 7\\nvalue = [0, 0, 6, 1, 0, 0, 0]'),\n",
              " Text(0.400990099009901, 0.5192307692307693, 'gini = 0.0\\nsamples = 6\\nvalue = [0, 0, 6, 0, 0, 0, 0]'),\n",
              " Text(0.4207920792079208, 0.5192307692307693, 'gini = 0.0\\nsamples = 1\\nvalue = [0, 0, 0, 1, 0, 0, 0]'),\n",
              " Text(0.4405940594059406, 0.5961538461538461, 'financiando <= 0.5\\ngini = 0.245\\nsamples = 7\\nvalue = [0, 0, 0, 1, 0, 0, 6]'),\n",
              " Text(0.4306930693069307, 0.5576923076923077, 'gini = 0.0\\nsamples = 6\\nvalue = [0, 0, 0, 0, 0, 0, 6]'),\n",
              " Text(0.4504950495049505, 0.5576923076923077, 'gini = 0.0\\nsamples = 1\\nvalue = [0, 0, 0, 1, 0, 0, 0]'),\n",
              " Text(0.4900990099009901, 0.6346153846153846, 'expensas <= 0.5\\ngini = 0.461\\nsamples = 33\\nvalue = [0, 7, 23, 0, 0, 0, 3]'),\n",
              " Text(0.4801980198019802, 0.5961538461538461, 'continuo <= 0.5\\ngini = 0.35\\nsamples = 29\\nvalue = [0, 3, 23, 0, 0, 0, 3]'),\n",
              " Text(0.47029702970297027, 0.5576923076923077, 'bienvenida <= 1.0\\ngini = 0.261\\nsamples = 27\\nvalue = [0, 3, 23, 0, 0, 0, 1]'),\n",
              " Text(0.4603960396039604, 0.5192307692307693, 'transferencia <= 0.5\\ngini = 0.15\\nsamples = 25\\nvalue = [0, 1, 23, 0, 0, 0, 1]'),\n",
              " Text(0.4504950495049505, 0.4807692307692308, 'gini = 0.0\\nsamples = 23\\nvalue = [0, 0, 23, 0, 0, 0, 0]'),\n",
              " Text(0.47029702970297027, 0.4807692307692308, 'latin <= 2.0\\ngini = 0.5\\nsamples = 2\\nvalue = [0, 1, 0, 0, 0, 0, 1]'),\n",
              " Text(0.4603960396039604, 0.4423076923076923, 'gini = 0.0\\nsamples = 1\\nvalue = [0, 1, 0, 0, 0, 0, 0]'),\n",
              " Text(0.4801980198019802, 0.4423076923076923, 'gini = 0.0\\nsamples = 1\\nvalue = [0, 0, 0, 0, 0, 0, 1]'),\n",
              " Text(0.4801980198019802, 0.5192307692307693, 'gini = 0.0\\nsamples = 2\\nvalue = [0, 2, 0, 0, 0, 0, 0]'),\n",
              " Text(0.4900990099009901, 0.5576923076923077, 'gini = 0.0\\nsamples = 2\\nvalue = [0, 0, 0, 0, 0, 0, 2]'),\n",
              " Text(0.5, 0.5961538461538461, 'gini = 0.0\\nsamples = 4\\nvalue = [0, 4, 0, 0, 0, 0, 0]'),\n",
              " Text(0.5495049504950495, 0.6730769230769231, 'efecto <= 0.5\\ngini = 0.334\\nsamples = 42\\nvalue = [0, 34, 2, 3, 1, 0, 2]'),\n",
              " Text(0.5297029702970297, 0.6346153846153846, 'trimestrales <= 0.5\\ngini = 0.231\\nsamples = 39\\nvalue = [0, 34, 2, 3, 0, 0, 0]'),\n",
              " Text(0.5198019801980198, 0.5961538461538461, 'estandar <= 0.5\\ngini = 0.149\\nsamples = 37\\nvalue = [0, 34, 0, 3, 0, 0, 0]'),\n",
              " Text(0.5099009900990099, 0.5576923076923077, 'realizada <= 1.5\\ngini = 0.056\\nsamples = 35\\nvalue = [0, 34, 0, 1, 0, 0, 0]'),\n",
              " Text(0.5, 0.5192307692307693, 'gini = 0.0\\nsamples = 34\\nvalue = [0, 34, 0, 0, 0, 0, 0]'),\n",
              " Text(0.5198019801980198, 0.5192307692307693, 'gini = 0.0\\nsamples = 1\\nvalue = [0, 0, 0, 1, 0, 0, 0]'),\n",
              " Text(0.5297029702970297, 0.5576923076923077, 'gini = 0.0\\nsamples = 2\\nvalue = [0, 0, 0, 2, 0, 0, 0]'),\n",
              " Text(0.5396039603960396, 0.5961538461538461, 'gini = 0.0\\nsamples = 2\\nvalue = [0, 0, 2, 0, 0, 0, 0]'),\n",
              " Text(0.5693069306930693, 0.6346153846153846, 'mejoren <= 0.5\\ngini = 0.444\\nsamples = 3\\nvalue = [0, 0, 0, 0, 1, 0, 2]'),\n",
              " Text(0.5594059405940595, 0.5961538461538461, 'gini = 0.0\\nsamples = 2\\nvalue = [0, 0, 0, 0, 0, 0, 2]'),\n",
              " Text(0.5792079207920792, 0.5961538461538461, 'gini = 0.0\\nsamples = 1\\nvalue = [0, 0, 0, 0, 1, 0, 0]'),\n",
              " Text(0.5891089108910891, 0.7115384615384616, 'uruguay <= 0.5\\ngini = 0.087\\nsamples = 44\\nvalue = [0, 42, 0, 2, 0, 0, 0]'),\n",
              " Text(0.5792079207920792, 0.6730769230769231, 'gini = 0.0\\nsamples = 41\\nvalue = [0, 41, 0, 0, 0, 0, 0]'),\n",
              " Text(0.599009900990099, 0.6730769230769231, 'destinada <= 0.5\\ngini = 0.444\\nsamples = 3\\nvalue = [0, 1, 0, 2, 0, 0, 0]'),\n",
              " Text(0.5891089108910891, 0.6346153846153846, 'gini = 0.0\\nsamples = 2\\nvalue = [0, 0, 0, 2, 0, 0, 0]'),\n",
              " Text(0.6089108910891089, 0.6346153846153846, 'gini = 0.0\\nsamples = 1\\nvalue = [0, 1, 0, 0, 0, 0, 0]'),\n",
              " Text(0.6386138613861386, 0.75, 'estiercol <= 0.5\\ngini = 0.272\\nsamples = 13\\nvalue = [0, 1, 1, 0, 0, 0, 11]'),\n",
              " Text(0.6287128712871287, 0.7115384615384616, 'gracia <= 1.5\\ngini = 0.153\\nsamples = 12\\nvalue = [0, 1, 0, 0, 0, 0, 11]'),\n",
              " Text(0.6188118811881188, 0.6730769230769231, 'gini = 0.0\\nsamples = 11\\nvalue = [0, 0, 0, 0, 0, 0, 11]'),\n",
              " Text(0.6386138613861386, 0.6730769230769231, 'gini = 0.0\\nsamples = 1\\nvalue = [0, 1, 0, 0, 0, 0, 0]'),\n",
              " Text(0.6485148514851485, 0.7115384615384616, 'gini = 0.0\\nsamples = 1\\nvalue = [0, 0, 1, 0, 0, 0, 0]'),\n",
              " Text(0.6115408415841584, 0.7884615384615384, 'gini = 0.0\\nsamples = 9\\nvalue = [0, 0, 0, 9, 0, 0, 0]'),\n",
              " Text(0.698019801980198, 0.8269230769230769, 'uruguay <= 0.5\\ngini = 0.297\\nsamples = 41\\nvalue = [0, 0, 3, 4, 0, 0, 34]'),\n",
              " Text(0.6881188118811881, 0.7884615384615384, 'manos <= 0.5\\ngini = 0.193\\nsamples = 38\\nvalue = [0, 0, 3, 1, 0, 0, 34]'),\n",
              " Text(0.6782178217821783, 0.75, 'vi <= 0.5\\ngini = 0.106\\nsamples = 36\\nvalue = [0, 0, 1, 1, 0, 0, 34]'),\n",
              " Text(0.6683168316831684, 0.7115384615384616, 'motor <= 0.5\\ngini = 0.056\\nsamples = 35\\nvalue = [0, 0, 1, 0, 0, 0, 34]'),\n",
              " Text(0.6584158415841584, 0.6730769230769231, 'gini = 0.0\\nsamples = 34\\nvalue = [0, 0, 0, 0, 0, 0, 34]'),\n",
              " Text(0.6782178217821783, 0.6730769230769231, 'gini = 0.0\\nsamples = 1\\nvalue = [0, 0, 1, 0, 0, 0, 0]'),\n",
              " Text(0.6881188118811881, 0.7115384615384616, 'gini = 0.0\\nsamples = 1\\nvalue = [0, 0, 0, 1, 0, 0, 0]'),\n",
              " Text(0.698019801980198, 0.75, 'gini = 0.0\\nsamples = 2\\nvalue = [0, 0, 2, 0, 0, 0, 0]'),\n",
              " Text(0.7079207920792079, 0.7884615384615384, 'gini = 0.0\\nsamples = 3\\nvalue = [0, 0, 0, 3, 0, 0, 0]'),\n",
              " Text(0.7821782178217822, 0.8653846153846154, 'bbb <= 8.5\\ngini = 0.508\\nsamples = 78\\nvalue = [3, 10, 3, 53, 1, 0, 8]'),\n",
              " Text(0.7574257425742574, 0.8269230769230769, 'medioambientales <= 0.5\\ngini = 0.362\\nsamples = 67\\nvalue = [3, 2, 2, 53, 1, 0, 6]'),\n",
              " Text(0.7376237623762376, 0.7884615384615384, 'opciones <= 0.5\\ngini = 0.268\\nsamples = 61\\nvalue = [3, 2, 2, 52, 1, 0, 1]'),\n",
              " Text(0.7277227722772277, 0.75, 'peso <= 0.5\\ngini = 0.219\\nsamples = 59\\nvalue = [3, 0, 2, 52, 1, 0, 1]'),\n",
              " Text(0.7178217821782178, 0.7115384615384616, 'aliamos <= 0.5\\ngini = 0.164\\nsamples = 57\\nvalue = [3, 0, 0, 52, 1, 0, 1]'),\n",
              " Text(0.698019801980198, 0.6730769230769231, 'estandares <= 0.5\\ngini = 0.04\\nsamples = 49\\nvalue = [0, 0, 0, 48, 1, 0, 0]'),\n",
              " Text(0.6881188118811881, 0.6346153846153846, 'gini = 0.0\\nsamples = 48\\nvalue = [0, 0, 0, 48, 0, 0, 0]'),\n",
              " Text(0.7079207920792079, 0.6346153846153846, 'gini = 0.0\\nsamples = 1\\nvalue = [0, 0, 0, 0, 1, 0, 0]'),\n",
              " Text(0.7376237623762376, 0.6730769230769231, 'desarrollen <= 1.0\\ngini = 0.594\\nsamples = 8\\nvalue = [3, 0, 0, 4, 0, 0, 1]'),\n",
              " Text(0.7277227722772277, 0.6346153846153846, 'permitida <= 0.5\\ngini = 0.56\\nsamples = 5\\nvalue = [3, 0, 0, 1, 0, 0, 1]'),\n",
              " Text(0.7178217821782178, 0.5961538461538461, 'beneficio <= 0.5\\ngini = 0.375\\nsamples = 4\\nvalue = [3, 0, 0, 1, 0, 0, 0]'),\n",
              " Text(0.7079207920792079, 0.5576923076923077, 'gini = 0.0\\nsamples = 2\\nvalue = [2, 0, 0, 0, 0, 0, 0]'),\n",
              " Text(0.7277227722772277, 0.5576923076923077, 'gini = 0.5\\nsamples = 2\\nvalue = [1, 0, 0, 1, 0, 0, 0]'),\n",
              " Text(0.7376237623762376, 0.5961538461538461, 'gini = 0.0\\nsamples = 1\\nvalue = [0, 0, 0, 0, 0, 0, 1]'),\n",
              " Text(0.7475247524752475, 0.6346153846153846, 'gini = 0.0\\nsamples = 3\\nvalue = [0, 0, 0, 3, 0, 0, 0]'),\n",
              " Text(0.7376237623762376, 0.7115384615384616, 'gini = 0.0\\nsamples = 2\\nvalue = [0, 0, 2, 0, 0, 0, 0]'),\n",
              " Text(0.7475247524752475, 0.75, 'gini = 0.0\\nsamples = 2\\nvalue = [0, 2, 0, 0, 0, 0, 0]'),\n",
              " Text(0.7772277227722773, 0.7884615384615384, 'spreads <= 0.5\\ngini = 0.278\\nsamples = 6\\nvalue = [0, 0, 0, 1, 0, 0, 5]'),\n",
              " Text(0.7673267326732673, 0.75, 'gini = 0.0\\nsamples = 5\\nvalue = [0, 0, 0, 0, 0, 0, 5]'),\n",
              " Text(0.7871287128712872, 0.75, 'gini = 0.0\\nsamples = 1\\nvalue = [0, 0, 0, 1, 0, 0, 0]'),\n",
              " Text(0.806930693069307, 0.8269230769230769, 'lanzarse <= 0.5\\ngini = 0.43\\nsamples = 11\\nvalue = [0, 8, 1, 0, 0, 0, 2]'),\n",
              " Text(0.7970297029702971, 0.7884615384615384, 'gini = 0.0\\nsamples = 8\\nvalue = [0, 8, 0, 0, 0, 0, 0]'),\n",
              " Text(0.8168316831683168, 0.7884615384615384, 'reconfiguracion <= 0.5\\ngini = 0.444\\nsamples = 3\\nvalue = [0, 0, 1, 0, 0, 0, 2]'),\n",
              " Text(0.806930693069307, 0.75, 'gini = 0.0\\nsamples = 2\\nvalue = [0, 0, 0, 0, 0, 0, 2]'),\n",
              " Text(0.8267326732673267, 0.75, 'gini = 0.0\\nsamples = 1\\nvalue = [0, 0, 1, 0, 0, 0, 0]'),\n",
              " Text(0.9455445544554455, 0.9423076923076923, 'innecesarios <= 0.5\\ngini = 0.196\\nsamples = 201\\nvalue = [5, 4, 180, 5, 4, 1, 2]'),\n",
              " Text(0.9108910891089109, 0.9038461538461539, 'supergiros <= 0.5\\ngini = 0.139\\nsamples = 192\\nvalue = [5, 0, 178, 4, 4, 0, 1]'),\n",
              " Text(0.8910891089108911, 0.8653846153846154, 'coloco <= 4.5\\ngini = 0.103\\nsamples = 188\\nvalue = [5, 0, 178, 1, 3, 0, 1]'),\n",
              " Text(0.8811881188118812, 0.8269230769230769, 'reguladas <= 0.5\\ngini = 0.074\\nsamples = 185\\nvalue = [2, 0, 178, 1, 3, 0, 1]'),\n",
              " Text(0.8712871287128713, 0.7884615384615384, 'oficio <= 1.5\\ngini = 0.054\\nsamples = 183\\nvalue = [2, 0, 178, 1, 1, 0, 1]'),\n",
              " Text(0.8465346534653465, 0.75, 'divisa <= 1.5\\ngini = 0.033\\nsamples = 181\\nvalue = [2, 0, 178, 0, 1, 0, 0]'),\n",
              " Text(0.8267326732673267, 0.7115384615384616, 'aliamos <= 2.5\\ngini = 0.011\\nsamples = 179\\nvalue = [1, 0, 178, 0, 0, 0, 0]'),\n",
              " Text(0.8168316831683168, 0.6730769230769231, 'gini = 0.0\\nsamples = 178\\nvalue = [0, 0, 178, 0, 0, 0, 0]'),\n",
              " Text(0.8366336633663366, 0.6730769230769231, 'gini = 0.0\\nsamples = 1\\nvalue = [1, 0, 0, 0, 0, 0, 0]'),\n",
              " Text(0.8663366336633663, 0.7115384615384616, 'coleccion <= 0.5\\ngini = 0.5\\nsamples = 2\\nvalue = [1, 0, 0, 0, 1, 0, 0]'),\n",
              " Text(0.8564356435643564, 0.6730769230769231, 'gini = 0.0\\nsamples = 1\\nvalue = [0, 0, 0, 0, 1, 0, 0]'),\n",
              " Text(0.8762376237623762, 0.6730769230769231, 'gini = 0.0\\nsamples = 1\\nvalue = [1, 0, 0, 0, 0, 0, 0]'),\n",
              " Text(0.8960396039603961, 0.75, 'gestandose <= 0.5\\ngini = 0.5\\nsamples = 2\\nvalue = [0, 0, 0, 1, 0, 0, 1]'),\n",
              " Text(0.8861386138613861, 0.7115384615384616, 'gini = 0.0\\nsamples = 1\\nvalue = [0, 0, 0, 1, 0, 0, 0]'),\n",
              " Text(0.905940594059406, 0.7115384615384616, 'gini = 0.0\\nsamples = 1\\nvalue = [0, 0, 0, 0, 0, 0, 1]'),\n",
              " Text(0.8910891089108911, 0.7884615384615384, 'gini = 0.0\\nsamples = 2\\nvalue = [0, 0, 0, 0, 2, 0, 0]'),\n",
              " Text(0.900990099009901, 0.8269230769230769, 'gini = 0.0\\nsamples = 3\\nvalue = [3, 0, 0, 0, 0, 0, 0]'),\n",
              " Text(0.9306930693069307, 0.8653846153846154, 'demostraciones <= 0.5\\ngini = 0.375\\nsamples = 4\\nvalue = [0, 0, 0, 3, 1, 0, 0]'),\n",
              " Text(0.9207920792079208, 0.8269230769230769, 'gini = 0.0\\nsamples = 3\\nvalue = [0, 0, 0, 3, 0, 0, 0]'),\n",
              " Text(0.9405940594059405, 0.8269230769230769, 'gini = 0.0\\nsamples = 1\\nvalue = [0, 0, 0, 0, 1, 0, 0]'),\n",
              " Text(0.9801980198019802, 0.9038461538461539, 'aumenten <= 1.0\\ngini = 0.716\\nsamples = 9\\nvalue = [0, 4, 2, 1, 0, 1, 1]'),\n",
              " Text(0.9702970297029703, 0.8653846153846154, 'permitan <= 0.5\\ngini = 0.612\\nsamples = 7\\nvalue = [0, 4, 0, 1, 0, 1, 1]'),\n",
              " Text(0.9603960396039604, 0.8269230769230769, 'almacenaje <= 0.5\\ngini = 0.667\\nsamples = 3\\nvalue = [0, 0, 0, 1, 0, 1, 1]'),\n",
              " Text(0.9504950495049505, 0.7884615384615384, 'españoles <= 0.5\\ngini = 0.5\\nsamples = 2\\nvalue = [0, 0, 0, 1, 0, 1, 0]'),\n",
              " Text(0.9405940594059405, 0.75, 'gini = 0.0\\nsamples = 1\\nvalue = [0, 0, 0, 1, 0, 0, 0]'),\n",
              " Text(0.9603960396039604, 0.75, 'gini = 0.0\\nsamples = 1\\nvalue = [0, 0, 0, 0, 0, 1, 0]'),\n",
              " Text(0.9702970297029703, 0.7884615384615384, 'gini = 0.0\\nsamples = 1\\nvalue = [0, 0, 0, 0, 0, 0, 1]'),\n",
              " Text(0.9801980198019802, 0.8269230769230769, 'gini = 0.0\\nsamples = 4\\nvalue = [0, 4, 0, 0, 0, 0, 0]'),\n",
              " Text(0.9900990099009901, 0.8653846153846154, 'gini = 0.0\\nsamples = 2\\nvalue = [0, 0, 2, 0, 0, 0, 0]')]"
            ]
          },
          "execution_count": 45,
          "metadata": {},
          "output_type": "execute_result"
        },
        {
          "data": {
            "image/png": "[encoded data removed]",
            "text/plain": [
              "<Figure size 640x480 with 1 Axes>"
            ]
          },
          "metadata": {},
          "output_type": "display_data"
        }
      ],
      "source": [
        "from sklearn.tree import plot_tree\n",
        "\n",
        "plot_tree(decision_tree=clf, feature_names=df_vectorizado.columns, filled=True)"
      ]
    },
    {
      "cell_type": "markdown",
      "metadata": {},
      "source": [
        "Del árbol que se generó al entrenar el modelo podemos evidenciar que a la derecha hay menor densidad de nodos indicando que hay palabras que son más importantes al momento de que el modelo tome una decisión cuando clasifica datos, mientras que en el lado izquierda necesita más nodos para diferenciar datos más específicos."
      ]
    }
  ],
  "metadata": {
    "anaconda-cloud": {},
    "colab": {
      "provenance": []
    },
    "hide_input": false,
    "kernelspec": {
      "display_name": "Python 3.7.13 ('nlp')",
      "language": "python",
      "name": "python3"
    },
    "language_info": {
      "codemirror_mode": {
        "name": "ipython",
        "version": 3
      },
      "file_extension": ".py",
      "mimetype": "text/x-python",
      "name": "python",
      "nbconvert_exporter": "python",
      "pygments_lexer": "ipython3",
      "version": "3.10.11"
    },
    "toc": {
      "base_numbering": 1,
      "nav_menu": {},
      "number_sections": true,
      "sideBar": true,
      "skip_h1_title": false,
      "title_cell": "Table of Contents",
      "title_sidebar": "Contents",
      "toc_cell": false,
      "toc_position": {},
      "toc_section_display": true,
      "toc_window_display": false
    },
    "varInspector": {
      "cols": {
        "lenName": 16,
        "lenType": 16,
        "lenVar": 40
      },
      "kernels_config": {
        "python": {
          "delete_cmd_postfix": "",
          "delete_cmd_prefix": "del ",
          "library": "var_list.py",
          "varRefreshCmd": "print(var_dic_list())"
        },
        "r": {
          "delete_cmd_postfix": ") ",
          "delete_cmd_prefix": "rm(",
          "library": "var_list.r",
          "varRefreshCmd": "cat(var_dic_list()) "
        }
      },
      "types_to_exclude": [
        "module",
        "function",
        "builtin_function_or_method",
        "instance",
        "_Feature"
      ],
      "window_display": false
    },
    "vscode": {
      "interpreter": {
        "hash": "456879ad4d789d0bb50a3af188487c3c209cc355cb3a8f3432393e5e9fc6bb79"
      }
    }
  },
  "nbformat": 4,
  "nbformat_minor": 0
}
