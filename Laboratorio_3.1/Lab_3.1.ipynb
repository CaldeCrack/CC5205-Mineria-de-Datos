{
  "cells": [
    {
      "cell_type": "markdown",
      "metadata": {
        "id": "p_XcuC2rXQWb",
        "pycharm": {}
      },
      "source": [
        "# Laboratorio 3.1: Clasificación\n",
        "\n",
        "Profesoras de Cátedra: Jazmine Maldonado, Cinthia Sánchez Profesores Auxiliares: Fran Zautzik, María José Zambrano\n",
        "\n",
        "Septiembre 2023\n"
      ]
    },
    {
      "cell_type": "markdown",
      "metadata": {
        "id": "gP6bki0CIMtj"
      },
      "source": [
        "## Nombres\n",
        "\n",
        "* Andrés Calderón\n",
        "* Franco González"
      ]
    },
    {
      "cell_type": "markdown",
      "metadata": {
        "id": "SMUzxXj7XQWi",
        "pycharm": {}
      },
      "source": [
        "## Instrucciones\n",
        "\n",
        "1. Trabajen en equipos de dos personas. Salvo excepciones, no se corregirá entregas con menos de dos integrantes.\n",
        "\n",
        "2. Modifique este archivo `.ipynb` agregando sus respuestas donde corresponda.\n",
        "\n",
        "3. El formato de entrega para esta actividad es un archivo **html**. Genere un archivo HTML usando jupyter (ver tutorial 2) y súbalo a U-Cursos. Basta con que **uno de los integrantes haga la entrega**. Si ambos hacen una entrega en U-Cursos, se revisará cualquiera de éstas.\n"
      ]
    },
    {
      "cell_type": "markdown",
      "metadata": {
        "id": "wjW5R_p5XQWj",
        "pycharm": {}
      },
      "source": [
        "A continuación vamos a cargar un dataset con noticias, el cual se puede encontrar en: https://www.kaggle.com/datasets/kevinmorgado/spanish-news-classification.\n",
        "\n",
        "Los atributos que posee son:\n",
        "\n",
        "- URL : El link a la noticia\n",
        "- News: El texto de la noticia\n",
        "- Type: La clasificación de la noticia\n",
        "\n",
        "\n",
        "Para el laboratoria solo nos importan las columnas News y Type.\n"
      ]
    },
    {
      "cell_type": "code",
      "execution_count": 7,
      "metadata": {
        "colab": {
          "base_uri": "https://localhost:8080/",
          "height": 206
        },
        "id": "JKE1Os_xGh-r",
        "outputId": "266c9005-eb1f-45fe-b2d7-6adcc124a20f"
      },
      "outputs": [
        {
          "data": {
            "text/html": [
              "<div>\n",
              "<style scoped>\n",
              "    .dataframe tbody tr th:only-of-type {\n",
              "        vertical-align: middle;\n",
              "    }\n",
              "\n",
              "    .dataframe tbody tr th {\n",
              "        vertical-align: top;\n",
              "    }\n",
              "\n",
              "    .dataframe thead th {\n",
              "        text-align: right;\n",
              "    }\n",
              "</style>\n",
              "<table border=\"1\" class=\"dataframe\">\n",
              "  <thead>\n",
              "    <tr style=\"text-align: right;\">\n",
              "      <th></th>\n",
              "      <th>Noticia</th>\n",
              "      <th>Clasificación</th>\n",
              "    </tr>\n",
              "  </thead>\n",
              "  <tbody>\n",
              "    <tr>\n",
              "      <th>0</th>\n",
              "      <td>Durante el foro La banca articulador empresari...</td>\n",
              "      <td>Otra</td>\n",
              "    </tr>\n",
              "    <tr>\n",
              "      <th>1</th>\n",
              "      <td>El regulador de valores de China dijo el domin...</td>\n",
              "      <td>Regulaciones</td>\n",
              "    </tr>\n",
              "    <tr>\n",
              "      <th>2</th>\n",
              "      <td>En una industria históricamente masculina como...</td>\n",
              "      <td>Alianzas</td>\n",
              "    </tr>\n",
              "    <tr>\n",
              "      <th>3</th>\n",
              "      <td>Con el dato de marzo el IPC interanual encaden...</td>\n",
              "      <td>Macroeconomia</td>\n",
              "    </tr>\n",
              "    <tr>\n",
              "      <th>4</th>\n",
              "      <td>Ayer en Cartagena se dio inicio a la versión n...</td>\n",
              "      <td>Otra</td>\n",
              "    </tr>\n",
              "  </tbody>\n",
              "</table>\n",
              "</div>"
            ],
            "text/plain": [
              "                                             Noticia  Clasificación\n",
              "0  Durante el foro La banca articulador empresari...           Otra\n",
              "1  El regulador de valores de China dijo el domin...   Regulaciones\n",
              "2  En una industria históricamente masculina como...       Alianzas\n",
              "3  Con el dato de marzo el IPC interanual encaden...  Macroeconomia\n",
              "4  Ayer en Cartagena se dio inicio a la versión n...           Otra"
            ]
          },
          "execution_count": 7,
          "metadata": {},
          "output_type": "execute_result"
        }
      ],
      "source": [
        "import pandas as pd\n",
        "df = pd.read_csv(\"https://raw.githubusercontent.com/mzambrano1/Datasets-CC5205-otono-2023/master/lab2.1/noticias.csv\")\n",
        "df = df[[\"news\", \"Type\"]]\n",
        "df = df.rename(columns={\n",
        "    'news': 'Noticia', 'Type':'Clasificación'})\n",
        "df.head()\n"
      ]
    },
    {
      "cell_type": "markdown",
      "metadata": {
        "id": "1kGPQ02MGMJn"
      },
      "source": [
        "A continuación preprocesaremos los textos y los convertiremos en vectores. Esto con el propósito de tener información numérica que pueda ser interpretable por los modelos que crearemos después.\n"
      ]
    },
    {
      "cell_type": "code",
      "execution_count": 8,
      "metadata": {
        "colab": {
          "base_uri": "https://localhost:8080/",
          "height": 280
        },
        "id": "K42xBf4zGMJo",
        "outputId": "d5d9c375-bc9b-4b41-ebc5-82996edc7f08"
      },
      "outputs": [
        {
          "data": {
            "text/html": [
              "<div>\n",
              "<style scoped>\n",
              "    .dataframe tbody tr th:only-of-type {\n",
              "        vertical-align: middle;\n",
              "    }\n",
              "\n",
              "    .dataframe tbody tr th {\n",
              "        vertical-align: top;\n",
              "    }\n",
              "\n",
              "    .dataframe thead th {\n",
              "        text-align: right;\n",
              "    }\n",
              "</style>\n",
              "<table border=\"1\" class=\"dataframe\">\n",
              "  <thead>\n",
              "    <tr style=\"text-align: right;\">\n",
              "      <th></th>\n",
              "      <th>Clasificación</th>\n",
              "      <th>aa</th>\n",
              "      <th>aaa</th>\n",
              "      <th>abacum</th>\n",
              "      <th>abajo</th>\n",
              "      <th>abandonar</th>\n",
              "      <th>abandono</th>\n",
              "      <th>abanico</th>\n",
              "      <th>abaratamiento</th>\n",
              "      <th>abaratar</th>\n",
              "      <th>...</th>\n",
              "      <th>zero</th>\n",
              "      <th>zhao</th>\n",
              "      <th>zijin</th>\n",
              "      <th>zmvm</th>\n",
              "      <th>zona</th>\n",
              "      <th>zonas</th>\n",
              "      <th>zuckerberg</th>\n",
              "      <th>zug</th>\n",
              "      <th>zuluaga</th>\n",
              "      <th>zurich</th>\n",
              "    </tr>\n",
              "  </thead>\n",
              "  <tbody>\n",
              "    <tr>\n",
              "      <th>0</th>\n",
              "      <td>Otra</td>\n",
              "      <td>0</td>\n",
              "      <td>0</td>\n",
              "      <td>0</td>\n",
              "      <td>0</td>\n",
              "      <td>0</td>\n",
              "      <td>0</td>\n",
              "      <td>0</td>\n",
              "      <td>0</td>\n",
              "      <td>0</td>\n",
              "      <td>...</td>\n",
              "      <td>0</td>\n",
              "      <td>0</td>\n",
              "      <td>0</td>\n",
              "      <td>0</td>\n",
              "      <td>0</td>\n",
              "      <td>0</td>\n",
              "      <td>0</td>\n",
              "      <td>0</td>\n",
              "      <td>0</td>\n",
              "      <td>0</td>\n",
              "    </tr>\n",
              "    <tr>\n",
              "      <th>1</th>\n",
              "      <td>Regulaciones</td>\n",
              "      <td>0</td>\n",
              "      <td>0</td>\n",
              "      <td>0</td>\n",
              "      <td>0</td>\n",
              "      <td>0</td>\n",
              "      <td>0</td>\n",
              "      <td>0</td>\n",
              "      <td>0</td>\n",
              "      <td>0</td>\n",
              "      <td>...</td>\n",
              "      <td>0</td>\n",
              "      <td>0</td>\n",
              "      <td>0</td>\n",
              "      <td>0</td>\n",
              "      <td>0</td>\n",
              "      <td>0</td>\n",
              "      <td>0</td>\n",
              "      <td>0</td>\n",
              "      <td>0</td>\n",
              "      <td>0</td>\n",
              "    </tr>\n",
              "    <tr>\n",
              "      <th>2</th>\n",
              "      <td>Alianzas</td>\n",
              "      <td>0</td>\n",
              "      <td>0</td>\n",
              "      <td>0</td>\n",
              "      <td>0</td>\n",
              "      <td>0</td>\n",
              "      <td>0</td>\n",
              "      <td>0</td>\n",
              "      <td>0</td>\n",
              "      <td>0</td>\n",
              "      <td>...</td>\n",
              "      <td>0</td>\n",
              "      <td>0</td>\n",
              "      <td>0</td>\n",
              "      <td>0</td>\n",
              "      <td>0</td>\n",
              "      <td>0</td>\n",
              "      <td>0</td>\n",
              "      <td>0</td>\n",
              "      <td>0</td>\n",
              "      <td>0</td>\n",
              "    </tr>\n",
              "    <tr>\n",
              "      <th>3</th>\n",
              "      <td>Macroeconomia</td>\n",
              "      <td>0</td>\n",
              "      <td>0</td>\n",
              "      <td>0</td>\n",
              "      <td>0</td>\n",
              "      <td>0</td>\n",
              "      <td>0</td>\n",
              "      <td>0</td>\n",
              "      <td>0</td>\n",
              "      <td>0</td>\n",
              "      <td>...</td>\n",
              "      <td>0</td>\n",
              "      <td>0</td>\n",
              "      <td>0</td>\n",
              "      <td>0</td>\n",
              "      <td>0</td>\n",
              "      <td>0</td>\n",
              "      <td>0</td>\n",
              "      <td>0</td>\n",
              "      <td>0</td>\n",
              "      <td>0</td>\n",
              "    </tr>\n",
              "    <tr>\n",
              "      <th>4</th>\n",
              "      <td>Otra</td>\n",
              "      <td>0</td>\n",
              "      <td>0</td>\n",
              "      <td>0</td>\n",
              "      <td>0</td>\n",
              "      <td>0</td>\n",
              "      <td>0</td>\n",
              "      <td>0</td>\n",
              "      <td>0</td>\n",
              "      <td>0</td>\n",
              "      <td>...</td>\n",
              "      <td>0</td>\n",
              "      <td>0</td>\n",
              "      <td>0</td>\n",
              "      <td>0</td>\n",
              "      <td>0</td>\n",
              "      <td>0</td>\n",
              "      <td>0</td>\n",
              "      <td>0</td>\n",
              "      <td>0</td>\n",
              "      <td>0</td>\n",
              "    </tr>\n",
              "  </tbody>\n",
              "</table>\n",
              "<p>5 rows × 14407 columns</p>\n",
              "</div>"
            ],
            "text/plain": [
              "   Clasificación  aa  aaa  abacum  abajo  abandonar  abandono  abanico  \\\n",
              "0           Otra   0    0       0      0          0         0        0   \n",
              "1   Regulaciones   0    0       0      0          0         0        0   \n",
              "2       Alianzas   0    0       0      0          0         0        0   \n",
              "3  Macroeconomia   0    0       0      0          0         0        0   \n",
              "4           Otra   0    0       0      0          0         0        0   \n",
              "\n",
              "   abaratamiento  abaratar  ...  zero  zhao  zijin  zmvm  zona  zonas  \\\n",
              "0              0         0  ...     0     0      0     0     0      0   \n",
              "1              0         0  ...     0     0      0     0     0      0   \n",
              "2              0         0  ...     0     0      0     0     0      0   \n",
              "3              0         0  ...     0     0      0     0     0      0   \n",
              "4              0         0  ...     0     0      0     0     0      0   \n",
              "\n",
              "   zuckerberg  zug  zuluaga  zurich  \n",
              "0           0    0        0       0  \n",
              "1           0    0        0       0  \n",
              "2           0    0        0       0  \n",
              "3           0    0        0       0  \n",
              "4           0    0        0       0  \n",
              "\n",
              "[5 rows x 14407 columns]"
            ]
          },
          "execution_count": 8,
          "metadata": {},
          "output_type": "execute_result"
        }
      ],
      "source": [
        "import requests\n",
        "import re\n",
        "import string\n",
        "from sklearn.feature_extraction.text import CountVectorizer\n",
        "\n",
        "def remove_numbers(text):\n",
        "    text = re.sub(r\"[0-9]\", \" \", text)\n",
        "    return \" \".join(text.split())\n",
        "\n",
        "\n",
        "def remove_unprintable_(text):\n",
        "    printable = set(string.printable + \"ñáéíóúü\" + \"ÑÁÉÍÓÚÜ\")\n",
        "    text = \"\".join(filter(lambda x: x in printable, text))\n",
        "    return text\n",
        "\n",
        "def remove_punctuation(text):\n",
        "    pattern = re.compile(r\"[^\\w\\sáéíóúüñÁÉÍÓÚÜÑ]\")\n",
        "    t = pattern.sub(r\" \", text)\n",
        "    return re.sub(\" +\", \" \", t)\n",
        "\n",
        "\n",
        "def reduce_spam(text):\n",
        "    text = re.sub(r\"(\\w+)(\\s+\\1){2,}\", r\"\\1\", text)\n",
        "    text = re.sub(r\"(\\w+\\s+\\w+)(\\s+\\1){2,}\", r\"\\1\", text)\n",
        "    return text\n",
        "\n",
        "\n",
        "def remove_vowels_accents(text):\n",
        "    return (\n",
        "        text.replace(\"á\", \"a\")\n",
        "        .replace(\"é\", \"e\")\n",
        "        .replace(\"í\", \"i\")\n",
        "        .replace(\"ó\", \"o\")\n",
        "        .replace(\"ú\", \"u\")\n",
        "        .replace(\"ü\", \"u\")\n",
        "    )\n",
        "\n",
        "def remove_stopwords(text, stopwords_list):\n",
        "    return \" \".join(\n",
        "        [word for word in str(text).split() if word not in stopwords_list]\n",
        "    )\n",
        "\n",
        "url = \"https://raw.githubusercontent.com/Alir3z4/stop-words/master/spanish.txt\"\n",
        "r = requests.get(url)\n",
        "\n",
        "stopwords_list = r.text.splitlines()\n",
        "\n",
        "def preprocesar(text):\n",
        "    text = text.lower()\n",
        "    text = remove_numbers(text)\n",
        "    text = remove_unprintable_(text)\n",
        "    text = remove_punctuation(text)\n",
        "    text = reduce_spam(text)\n",
        "    text = remove_stopwords(text, stopwords_list)\n",
        "    text = remove_vowels_accents(text)\n",
        "    return text.strip()\n",
        "\n",
        "\n",
        "# Extraer los vectores\n",
        "vectorizer = CountVectorizer(preprocessor=preprocesar, min_df=2)\n",
        "vectors = vectorizer.fit_transform(df[\"Noticia\"])\n",
        "\n",
        "# Incorporar los vectores como dataframe\n",
        "X = pd.DataFrame(vectors.toarray(), columns=vectorizer.get_feature_names_out())\n",
        "y = df[\"Clasificación\"]\n",
        "\n",
        "df_vectorizado = pd.concat([y, X], axis=1)\n",
        "df_vectorizado.head()\n"
      ]
    },
    {
      "cell_type": "markdown",
      "metadata": {
        "id": "B3b92IPxXQWn",
        "pycharm": {}
      },
      "source": [
        "### Pregunta 1\n",
        "\n",
        "Cargue los datos e indique lo siguiente:\n",
        "\n",
        "- Tamaño del dataset vectorizado (cantidad de instancias y atributos).\n",
        "- ¿Cuántas clases hay en la columna \"Clasificación\" y cuáles son sus nombres?\n",
        "- ¿Cuántas instancias hay en cada clase?\n",
        "\n",
        "Indique en cada caso cómo obtuvo la respuesta, es decir, adjunte código.\n"
      ]
    },
    {
      "cell_type": "code",
      "execution_count": 23,
      "metadata": {
        "id": "2lmQOZVb8qIE"
      },
      "outputs": [
        {
          "name": "stdout",
          "output_type": "stream",
          "text": [
            "Dimensiones del dataset: (1217, 14407) \n",
            "\n",
            "Cantidad de clases: 7\n",
            "Clases: ['Otra' 'Regulaciones' 'Alianzas' 'Macroeconomia' 'Innovacion'\n",
            " 'Sostenibilidad' 'Reputacion'] \n",
            "\n",
            "Cantidad de elementos por clase:\n",
            " Clasificación\n",
            "Macroeconomia     340\n",
            "Alianzas          247\n",
            "Innovacion        195\n",
            "Regulaciones      142\n",
            "Sostenibilidad    137\n",
            "Otra              130\n",
            "Reputacion         26\n",
            "Name: count, dtype: int64\n"
          ]
        }
      ],
      "source": [
        "#Respuesta\n",
        "print(\"Dimensiones del dataset:\", df_vectorizado.shape, \"\\n\")\n",
        "print(\"Cantidad de clases:\", len(df_vectorizado[\"Clasificación\"].unique()))\n",
        "print(\"Clases:\", df_vectorizado[\"Clasificación\"].unique(), \"\\n\")\n",
        "print(\"Cantidad de elementos por clase:\\n\", df_vectorizado[\"Clasificación\"].value_counts())"
      ]
    },
    {
      "cell_type": "markdown",
      "metadata": {
        "id": "JXcHtXFUXQW1",
        "pycharm": {}
      },
      "source": [
        "### Pregunta 2\n"
      ]
    },
    {
      "cell_type": "markdown",
      "metadata": {
        "id": "651JYu7VXQW2",
        "pycharm": {}
      },
      "source": [
        "En esta parte useremos el clasificador **Decision Tree**. Veremos distintas formas de usarlo, y vamos a compararlas utilizando diversas métricas.\n"
      ]
    },
    {
      "cell_type": "markdown",
      "metadata": {
        "id": "6HRB6oDBXQW3",
        "pycharm": {}
      },
      "source": [
        "Usando el siguiente código, entrenaremos un clasificador con los datos cargados (X, y) y haremos una predicción sobre los mismos datos empleando dicho clasificador entrenado. Luego, se mostrarán las métricas de **accuracy**, **precision**, **recall** y **f1-score**.\n"
      ]
    },
    {
      "cell_type": "code",
      "execution_count": 25,
      "metadata": {
        "ExecuteTime": {
          "end_time": "2020-09-28T01:11:33.665446Z",
          "start_time": "2020-09-28T01:11:33.559713Z"
        },
        "colab": {
          "base_uri": "https://localhost:8080/"
        },
        "id": "TIKF6nyJXQW3",
        "outputId": "f24ed812-8a7a-44f7-f87e-80da86d88c84",
        "pycharm": {}
      },
      "outputs": [
        {
          "name": "stdout",
          "output_type": "stream",
          "text": [
            "Accuracy: 0.9967132292522597\n",
            "                precision    recall  f1-score   support\n",
            "\n",
            "      Alianzas       0.99      1.00      0.99       247\n",
            "    Innovacion       1.00      1.00      1.00       195\n",
            " Macroeconomia       1.00      1.00      1.00       340\n",
            "          Otra       1.00      0.98      0.99       130\n",
            "  Regulaciones       1.00      0.99      1.00       142\n",
            "    Reputacion       1.00      1.00      1.00        26\n",
            "Sostenibilidad       1.00      0.99      1.00       137\n",
            "\n",
            "      accuracy                           1.00      1217\n",
            "     macro avg       1.00      1.00      1.00      1217\n",
            "  weighted avg       1.00      1.00      1.00      1217\n",
            "\n"
          ]
        }
      ],
      "source": [
        "from sklearn.tree import DecisionTreeClassifier\n",
        "from sklearn.metrics import accuracy_score\n",
        "from sklearn.metrics import classification_report\n",
        "\n",
        "clf = DecisionTreeClassifier()\n",
        "clf.fit(X, y)\n",
        "y_pred = clf.predict(X)\n",
        "print(\"Accuracy:\", accuracy_score(y, y_pred))\n",
        "print(classification_report(y, y_pred))"
      ]
    },
    {
      "cell_type": "markdown",
      "metadata": {
        "id": "pNEQK4DYXQW6",
        "pycharm": {}
      },
      "source": [
        "De acuerdo a los resultados obtenidos:\n",
        "\n",
        "- ¿Qué opina sobre las predicciones?\n",
        "\n",
        "- ¿Qué problema puede identificar?\n"
      ]
    },
    {
      "cell_type": "markdown",
      "metadata": {
        "id": "JhWup6DvGMJr"
      },
      "source": [
        "**Respuesta:**\n",
        "\n",
        "Las métricas son tan altas que nos hacen dudar del test con el que se probó el modelo.\n",
        "\n",
        "Primero podemos notar que se utilizaron los mismos datos de entrenamiento para el testeo del modelo, por lo que este tiene muy buenos resultados con estos, pero probablemente no obtenga resultados tan buenos con datos con los que no ha trabajado anteriormente."
      ]
    },
    {
      "cell_type": "markdown",
      "metadata": {
        "id": "ZfTp-Sn3XADF"
      },
      "source": [
        "### Pregunta 3.1\n"
      ]
    },
    {
      "cell_type": "markdown",
      "metadata": {
        "id": "Z4uSWz6fXADG"
      },
      "source": [
        "Ahora lo que haremos será dividir nuestro dataset en 70% entrenar (**_training set_**) y 30% para testear (**_testing set_**). Use la función **_train_test_split()_** de _sklearn_ y utilice las variables `X_train, X_test, y_train, y_test`.\n"
      ]
    },
    {
      "cell_type": "markdown",
      "metadata": {
        "id": "K2O9O-2HXADG"
      },
      "source": [
        "Escriba el código necesario para dividir los datos, entrenar el modelo e indicar el **accuracy**, **precision** y **recall** del clasificador.\n",
        "\n",
        "Entrene usando el **_training set_** y pruebe sobre el **_testing set_**, en base a la división 70%-30%, respectivamente\n",
        "\n",
        "**NOTA: para dividir el dataset use el parámetro `stratify=y`.**\n"
      ]
    },
    {
      "cell_type": "code",
      "execution_count": 26,
      "metadata": {
        "ExecuteTime": {
          "end_time": "2020-09-28T01:11:33.683493Z",
          "start_time": "2020-09-28T01:11:33.667451Z"
        },
        "id": "cYvg3e6nXQW9",
        "pycharm": {}
      },
      "outputs": [
        {
          "name": "stdout",
          "output_type": "stream",
          "text": [
            "Accuracy: 0.7978142076502732\n",
            "                precision    recall  f1-score   support\n",
            "\n",
            "      Alianzas       0.82      0.86      0.84        74\n",
            "    Innovacion       0.81      0.86      0.84        59\n",
            " Macroeconomia       0.75      0.90      0.82       102\n",
            "          Otra       0.76      0.67      0.71        39\n",
            "  Regulaciones       0.86      0.58      0.69        43\n",
            "    Reputacion       0.86      0.75      0.80         8\n",
            "Sostenibilidad       0.85      0.68      0.76        41\n",
            "\n",
            "      accuracy                           0.80       366\n",
            "     macro avg       0.82      0.76      0.78       366\n",
            "  weighted avg       0.80      0.80      0.79       366\n",
            "\n"
          ]
        }
      ],
      "source": [
        "# Recuerde usar las variables X_train, X_test, y_train, y_test\n",
        "from sklearn.model_selection import train_test_split\n",
        "import numpy as np\n",
        "\n",
        "X_train, X_test, y_train, y_test = train_test_split(X, y, test_size=0.3, stratify=y)\n",
        "\n",
        "clf = DecisionTreeClassifier()\n",
        "clf.fit(X_train, y_train)\n",
        "y_pred = clf.predict(X_test)\n",
        "print(\"Accuracy:\", accuracy_score(y_test, y_pred))\n",
        "print(classification_report(y_test, y_pred))\n",
        "print(np.mean(y_pred[\"accuracy\"]))\n",
        "print(np.mean(y_pred[\"precision\"]))\n",
        "print(np.mean(y_pred[\"recall\"]))"
      ]
    },
    {
      "cell_type": "markdown",
      "metadata": {
        "id": "ynsWofRRXADJ"
      },
      "source": [
        "### Pregunta 3.2.\n",
        "\n",
        "¿Qué opina sobre las predicciones obtenidas en la pregunta anterior?\n",
        "\n",
        "Responda lo siguiente:\n",
        "\n",
        "1. Comparando los clasificadores de las preguntas 2 y 3 ¿Cuál tiene peores resultados? ¿Por qué?\n",
        "2. ¿Cuál de las dos formas de entrenar el clasificador prefiere? Justifique su respuesta\n"
      ]
    },
    {
      "cell_type": "markdown",
      "metadata": {
        "id": "kYOSz94yHwSF"
      },
      "source": [
        "**Respuesta:**\n",
        "\n",
        "No son tan buenas como la de la situación anterior, pero se puede notar que en esta ocasión el modelo si tuvo un aprendizaje de los datos en vez de memorizarlos.\n",
        "\n",
        "Númericamente los resultados del segundo modelo son peores pero esto se debe a que en esta ocasión utilizamos datos desconocidos para el modelo durante el entrenamiento al momento de realizar el testeo, y probablemente este modelo obtendría mejores resultados para datos nuevos pues sería más generalizable.\n",
        "\n",
        "La forma correcta de entrenar modelos es usando datos desconocidos durante el testeo para que al momento de revisar los resultados obtengamos valores más realistas, por lo que elegiriamos el segundo dado que si podemos visualizar de forma efectiva unos resultados que se corresponden más con lo esperado."
      ]
    },
    {
      "cell_type": "markdown",
      "metadata": {
        "id": "tL6TPIutXQXD",
        "pycharm": {}
      },
      "source": [
        "### Pregunta 4\n",
        "\n",
        "El siguiente código genera una matriz de confusión de los resultados de clasificación de la pregunta anterior. Ejecute el bloque completo para visualizar el gráfico. Interprete la matriz y comente sobre cada uno de los valores distintos de 0 en la matriz y describa lo que representa.\n",
        "\n",
        "_Verifique que los resultados que se imprimen concuerden con su respuesta (por el factor aleatorio del estimador). Nota: Para obtener un comportamiento determinista existe el parámetro **random_state**, por ejemplo: clf = DecisionTreeClassifier(random_state=2)._\n"
      ]
    },
    {
      "cell_type": "code",
      "execution_count": 30,
      "metadata": {
        "id": "_inbTdXl55-0",
        "outputId": "66ba42cf-7d34-4ade-ed45-09fdda363b04"
      },
      "outputs": [
        {
          "data": {
            "image/png": "[encoded data removed]",
            "text/plain": [
              "<Figure size 640x480 with 2 Axes>"
            ]
          },
          "metadata": {},
          "output_type": "display_data"
        }
      ],
      "source": [
        "# EJECUTAR ESTE BLOQUE\n",
        "import seaborn as sns\n",
        "import matplotlib.pyplot as plt\n",
        "\n",
        "from sklearn.metrics import confusion_matrix\n",
        "from sklearn.utils.multiclass import unique_labels\n",
        "\n",
        "# Compute confusion matrix. By default is not normalized (normalize=None)\n",
        "# If necessary change 'y_pred' according to your variable name\n",
        "cm = confusion_matrix(y_test, y_pred)\n",
        "\n",
        "# Only use the labels that appear in the data\n",
        "classes = unique_labels(y_test, y_pred)\n",
        "\n",
        "df = pd.DataFrame(cm, index=classes, columns=classes)\n",
        "\n",
        "g = sns.heatmap(df, annot=True, cmap=\"Blues\")\n",
        "g.set_yticklabels(g.get_yticklabels(), rotation=0)\n",
        "\n",
        "plt.title('Confusion matrix \\n')\n",
        "plt.xlabel('Predicted label')\n",
        "plt.ylabel('True label')\n",
        "\n",
        "plt.autoscale()\n"
      ]
    },
    {
      "cell_type": "markdown",
      "metadata": {
        "id": "EioZq9ZEXQXG",
        "pycharm": {}
      },
      "source": [
        "**Respuesta:**\n",
        "\n",
        "Como la mayor parte de los datos están en la diagonal se puede notar que el modelo predice efectivamente gran parte de los datos. También podemos visualizar que los datos están desbalanceados, principalmente se observa una gran diferencia entre las clases \"Macroeconomía\" y \"Reputación\", de la cual la primera posee alrededor de 100 datos mientras que la segunda tan solo 8, lo cual no permite al modelo aprender a clasificar clases minoritarias. "
      ]
    },
    {
      "cell_type": "markdown",
      "metadata": {
        "id": "8nnZ5QTPXADM"
      },
      "source": [
        "### Pregunta 5"
      ]
    },
    {
      "cell_type": "markdown",
      "metadata": {
        "id": "XmZSQQSJXADN"
      },
      "source": [
        "Para este clasificador utilizaremos Cross-validation. Con cross-validation, el conjunto de entrenamiento se divide en $k$ conjuntos disjuntos; se entrena sobre los datos correspondientes a $k-1$ de éstos, y se evalúa sobre el conjunto restante. Esto se repite $k$ veces, evaluando siempre sobre un conjunto distinto. Teniendo en cuenta el parámetro $k$, a éste método se le llama $k$-fold cross-validation.\n",
        "\n",
        "El código que está a continuación realizará 10-fold cross-validation usando Decision Tree sobre los datos. La forma de estimar el rendimiento del clasificador es, entre otras cosas, calculando el promedio de todos los k-folds.\n",
        "\n",
        "Además se muestra la predición sobre los datos para testear.\n"
      ]
    },
    {
      "cell_type": "code",
      "execution_count": 32,
      "metadata": {
        "ExecuteTime": {
          "end_time": "2020-09-28T01:11:34.015989Z",
          "start_time": "2020-09-28T01:11:33.939789Z"
        },
        "id": "gJyyPpzxXQXI",
        "outputId": "906115f2-9f4c-4b27-efa9-af3e8f40049d",
        "pycharm": {}
      },
      "outputs": [
        {
          "name": "stdout",
          "output_type": "stream",
          "text": [
            "Promedio Precision: 0.7965088655183358\n",
            "Promedio Recall: 0.7667098013294387\n",
            "Promedio F1-score: 0.7679477137029559\n",
            "Promedio Accucary: 0.7863297656144155\n"
          ]
        }
      ],
      "source": [
        "# EJECUTAR ESTE BLOQUE\n",
        "\n",
        "from sklearn.model_selection import cross_validate\n",
        "import numpy as np\n",
        "\n",
        "scoring = ['precision_macro', 'recall_macro', 'accuracy', 'f1_macro']\n",
        "cv_results = cross_validate(\n",
        "    clf, X, y, cv=10, scoring=scoring, return_train_score=True)\n",
        "\n",
        "print('Promedio Precision:', np.mean(cv_results['test_precision_macro']))\n",
        "print('Promedio Recall:', np.mean(cv_results['test_recall_macro']))\n",
        "print('Promedio F1-score:', np.mean(cv_results['test_f1_macro']))\n",
        "print('Promedio Accuracy:', np.mean(cv_results['test_accuracy']))\n",
        "\n",
        "# Si quisieramos mostrar el resultado de cada k-fold, deberiamos quitar la\n",
        "# funcion np.mean la cual retorna el promedio. Esto mostraría una lista con el resultado de cada fold\n"
      ]
    },
    {
      "cell_type": "markdown",
      "metadata": {
        "id": "U6_ceSH0XQXK",
        "pycharm": {}
      },
      "source": [
        "- Compare los valores de las métricas con respecto a lo obtenido en la pregunta 3.1. Comente en qué difieren y por qué.\n",
        "- ¿Qué beneficios tiene emplear cross-validation?\n",
        "\n"
      ]
    },
    {
      "cell_type": "markdown",
      "metadata": {
        "id": "HUxJzb3HH40p"
      },
      "source": [
        "**Respuesta:**\n",
        "\n",
        "Las métricas empeoraron un poco, y podemos suponer que esta diferencia es debido al overfitting dado que al utilizar más datos para el entrenamiento, como las particiones son del 90% de datos para el entrenamiento y el resto para el testeo, por lo que este modelo puede estar intentando memorizar la información más que intentar aprender algún patrón. Uno podría pensar que el modelo mejoraría al entrenarlo varias veces, pero en este caso no resultó así debido a la cantidad de particiones que se eligieron.\n",
        "\n",
        "Por lo general, emplear cross-validation tiene el beneficio de poder utilizar todos los datos del dataset en varias etapas del proceso de aprendizaje, tanto en los datos de entrenamiento como en los de testeo. También podemos decir que el modelo resultante va a predecir en base a varios modelos resultantes, por lo que si alguno de estos estuviera sesgado, mientras este no esté presente en la mayoría, al tener varios no se notaría este sesgo en el producto final."
      ]
    },
    {
      "cell_type": "markdown",
      "metadata": {
        "id": "RlpDuPmMyUNx"
      },
      "source": [
        "### Pregunta 6"
      ]
    },
    {
      "cell_type": "markdown",
      "metadata": {
        "id": "WimSita0yZzO"
      },
      "source": [
        "Cuando hacemos clasificación en Data Mining queremos encontrar un patrón en los datos. Analice los atributos de los datos junto a los resultados obtenidos en la pregunta 3.1 y describa sus principales observaciones. ¿Cómo se relacionan los atributos X con la clase de interés y? Es una pregunta abierta, puede apoyar su análisis con tablas y/o visualizaciones.\n",
        "\n",
        "**Respuesta:**\n",
        "\n",
        "Una de las principales observaciones es que cada tipo de noticia utilizará un vocabulario adecuado según el contexto, por lo que deben existir palabras claves con las que el modelo podría casi asegurar que se está hablando de un cierto tema, incluyendo el nombre de este mismo, por lo que podemos suponer que existen atributos X que están fuertemente relacionados con la etiqueta.\n",
        "\n",
        "El modelo resultante de la pregunta 3.1 probablemente realiza el procedimiento descrito, de modo que busca que el elemento analizado posea estas palabras clave, pudiendo clasificar erróneamente ciertos valores debido a la aparición de estas palabras clave para una cierta clasificación pese a que es otra."
      ]
    },
    {
      "cell_type": "code",
      "execution_count": 41,
      "metadata": {},
      "outputs": [
        {
          "data": {
            "text/plain": [
              "<Axes: >"
            ]
          },
          "execution_count": 41,
          "metadata": {},
          "output_type": "execute_result"
        },
        {
          "data": {
            "image/png": "[encoded data removed]",
            "text/plain": [
              "<Figure size 1000x800 with 1 Axes>"
            ]
          },
          "metadata": {},
          "output_type": "display_data"
        }
      ],
      "source": [
        "df_vectorizado[\"Clasificación\"].hist(bins=7, figsize=(10, 8))"
      ]
    },
    {
      "cell_type": "markdown",
      "metadata": {},
      "source": [
        "En el modelo resultante de la pregunta 3.1 se podía evidenciar un desbalance y ahora lo apoyamos con este histograma. "
      ]
    }
  ],
  "metadata": {
    "anaconda-cloud": {},
    "colab": {
      "provenance": []
    },
    "hide_input": false,
    "kernelspec": {
      "display_name": "Python 3.7.13 ('nlp')",
      "language": "python",
      "name": "python3"
    },
    "language_info": {
      "codemirror_mode": {
        "name": "ipython",
        "version": 3
      },
      "file_extension": ".py",
      "mimetype": "text/x-python",
      "name": "python",
      "nbconvert_exporter": "python",
      "pygments_lexer": "ipython3",
      "version": "3.10.11"
    },
    "toc": {
      "base_numbering": 1,
      "nav_menu": {},
      "number_sections": true,
      "sideBar": true,
      "skip_h1_title": false,
      "title_cell": "Table of Contents",
      "title_sidebar": "Contents",
      "toc_cell": false,
      "toc_position": {},
      "toc_section_display": true,
      "toc_window_display": false
    },
    "varInspector": {
      "cols": {
        "lenName": 16,
        "lenType": 16,
        "lenVar": 40
      },
      "kernels_config": {
        "python": {
          "delete_cmd_postfix": "",
          "delete_cmd_prefix": "del ",
          "library": "var_list.py",
          "varRefreshCmd": "print(var_dic_list())"
        },
        "r": {
          "delete_cmd_postfix": ") ",
          "delete_cmd_prefix": "rm(",
          "library": "var_list.r",
          "varRefreshCmd": "cat(var_dic_list()) "
        }
      },
      "types_to_exclude": [
        "module",
        "function",
        "builtin_function_or_method",
        "instance",
        "_Feature"
      ],
      "window_display": false
    },
    "vscode": {
      "interpreter": {
        "hash": "456879ad4d789d0bb50a3af188487c3c209cc355cb3a8f3432393e5e9fc6bb79"
      }
    }
  },
  "nbformat": 4,
  "nbformat_minor": 0
}
